{
 "cells": [
  {
   "cell_type": "markdown",
   "id": "906e4073",
   "metadata": {},
   "source": [
    "# 安装NetworkX"
   ]
  },
  {
   "cell_type": "markdown",
   "id": "51941dc2",
   "metadata": {},
   "source": [
    "!pip install numpy pandas matplotlib tqdm networkx -i https://mirror.sjtu.edu.cn/pypi/web/simple"
   ]
  },
  {
   "cell_type": "code",
   "execution_count": null,
   "id": "b6d03b7d",
   "metadata": {},
   "outputs": [],
   "source": [
    "# 验证安装\n",
    "import networkx as nx\n",
    "nx.__version__"
   ]
  },
  {
   "cell_type": "code",
   "execution_count": null,
   "id": "1298f2d2",
   "metadata": {},
   "outputs": [],
   "source": [
    "# 测试中文字体\n",
    "import matplotlib\n",
    "import matplotlib.pyplot as plt\n",
    "%matplotlib inline\n",
    "matplotlib.rc(\"font\",family='SimHei') # 中文字体\n",
    "plt.rcParams['axes.unicode_minus']=False  # 用来正常显示负号\n",
    "plt.plot([1,2,3], [100,500,300])\n",
    "plt.title('matplotlib中文字体测试', fontsize=25)\n",
    "plt.xlabel('X轴', fontsize=15)\n",
    "plt.ylabel('Y轴', fontsize=15)\n",
    "plt.show()\n"
   ]
  },
  {
   "cell_type": "markdown",
   "id": "5c611055",
   "metadata": {},
   "source": [
    "# 创建图-NetworkX内置图"
   ]
  },
  {
   "cell_type": "code",
   "execution_count": null,
   "id": "c9c9849b",
   "metadata": {},
   "outputs": [],
   "source": [
    "import networkx as nx\n",
    "\n",
    "# 数据可视化\n",
    "import matplotlib.pyplot as plt\n",
    "%matplotlib inline\n",
    "\n",
    "plt.rcParams['font.sans-serif']=['SimHei']  # 用来正常显示中文标签  \n",
    "plt.rcParams['axes.unicode_minus']=False  # 用来正常显示负号"
   ]
  },
  {
   "cell_type": "code",
   "execution_count": null,
   "id": "337ee41b",
   "metadata": {},
   "outputs": [],
   "source": [
    "# 全连接无向图\n",
    "G = nx.complete_graph(7)\n",
    "nx.draw(G)"
   ]
  },
  {
   "cell_type": "code",
   "execution_count": null,
   "id": "3c25814c",
   "metadata": {},
   "outputs": [],
   "source": [
    "# 全图连接数\n",
    "G.size()"
   ]
  },
  {
   "cell_type": "code",
   "execution_count": null,
   "id": "3f0c78dc",
   "metadata": {},
   "outputs": [],
   "source": [
    "# 全连接有向图\n",
    "G = nx.complete_graph(7, nx.DiGraph())\n",
    "nx.draw(G)"
   ]
  },
  {
   "cell_type": "code",
   "execution_count": null,
   "id": "a023c220",
   "metadata": {},
   "outputs": [],
   "source": [
    "G.is_directed()"
   ]
  },
  {
   "cell_type": "code",
   "execution_count": null,
   "id": "4d34b903",
   "metadata": {},
   "outputs": [],
   "source": [
    "#环状图\n",
    "G = nx.cycle_graph(5)\n",
    "nx.draw(G)"
   ]
  },
  {
   "cell_type": "code",
   "execution_count": null,
   "id": "c6a3f5da",
   "metadata": {},
   "outputs": [],
   "source": [
    "#梯状图\n",
    "G = nx.ladder_graph(5)\n",
    "nx.draw(G)"
   ]
  },
  {
   "cell_type": "code",
   "execution_count": null,
   "id": "f1c0959b",
   "metadata": {},
   "outputs": [],
   "source": [
    "#线性串珠图\n",
    "G = nx.path_graph(15)\n",
    "nx.draw(G)"
   ]
  },
  {
   "cell_type": "code",
   "execution_count": null,
   "id": "4d431bb7",
   "metadata": {},
   "outputs": [],
   "source": [
    "#星状图\n",
    "G = nx.star_graph(7)\n",
    "nx.draw(G)"
   ]
  },
  {
   "cell_type": "code",
   "execution_count": null,
   "id": "7372f070",
   "metadata": {},
   "outputs": [],
   "source": [
    "#轮辐图\n",
    "G = nx.wheel_graph(8)\n",
    "nx.draw(G)"
   ]
  },
  {
   "cell_type": "code",
   "execution_count": null,
   "id": "af0d274a",
   "metadata": {},
   "outputs": [],
   "source": [
    "# 二项树\n",
    "G = nx.binomial_tree(5)\n",
    "nx.draw(G)"
   ]
  },
  {
   "cell_type": "markdown",
   "id": "8006bc99",
   "metadata": {},
   "source": [
    "## 栅格图\n"
   ]
  },
  {
   "cell_type": "code",
   "execution_count": null,
   "id": "51a7a55a",
   "metadata": {},
   "outputs": [],
   "source": [
    "#二维矩形网格图\n",
    "G = nx.grid_2d_graph(3,5)\n",
    "nx.draw(G)"
   ]
  },
  {
   "cell_type": "code",
   "execution_count": null,
   "id": "8645ca0f",
   "metadata": {},
   "outputs": [],
   "source": [
    "#多维矩形网格图\n",
    "G = nx.grid_graph(dim=(2, 3, 4))\n",
    "nx.draw(G)"
   ]
  },
  {
   "cell_type": "code",
   "execution_count": null,
   "id": "3a18c478",
   "metadata": {},
   "outputs": [],
   "source": [
    "# 二维三角形网格图\n",
    "G = nx.triangular_lattice_graph(2,5)\n",
    "nx.draw(G)"
   ]
  },
  {
   "cell_type": "code",
   "execution_count": null,
   "id": "71bcec60",
   "metadata": {},
   "outputs": [],
   "source": [
    "# 二维六边形蜂窝图\n",
    "G = nx.hexagonal_lattice_graph(2,3)\n",
    "nx.draw(G)"
   ]
  },
  {
   "cell_type": "code",
   "execution_count": null,
   "id": "069b3a47",
   "metadata": {},
   "outputs": [],
   "source": [
    "# n维超立方体图\n",
    "G = nx.hypercube_graph(4)\n",
    "nx.draw(G)"
   ]
  },
  {
   "cell_type": "code",
   "execution_count": null,
   "id": "45c5d96a",
   "metadata": {},
   "outputs": [],
   "source": [
    "#NetworkX内置图\n",
    "G = nx.diamond_graph()\n",
    "nx.draw(G)"
   ]
  },
  {
   "cell_type": "code",
   "execution_count": null,
   "id": "95b5f46a",
   "metadata": {},
   "outputs": [],
   "source": [
    "G = nx.bull_graph()\n",
    "nx.draw(G)"
   ]
  },
  {
   "cell_type": "code",
   "execution_count": null,
   "id": "6516ced4",
   "metadata": {},
   "outputs": [],
   "source": [
    "G = nx.frucht_graph()\n",
    "nx.draw(G)"
   ]
  },
  {
   "cell_type": "code",
   "execution_count": null,
   "id": "4f67af01",
   "metadata": {},
   "outputs": [],
   "source": [
    "G = nx.house_graph()\n",
    "nx.draw(G)"
   ]
  },
  {
   "cell_type": "code",
   "execution_count": null,
   "id": "f7869e8b",
   "metadata": {},
   "outputs": [],
   "source": [
    "G = nx.house_x_graph()\n",
    "nx.draw(G)"
   ]
  },
  {
   "cell_type": "code",
   "execution_count": null,
   "id": "273e4cec",
   "metadata": {},
   "outputs": [],
   "source": [
    "G = nx.petersen_graph()\n",
    "nx.draw(G)"
   ]
  },
  {
   "cell_type": "code",
   "execution_count": null,
   "id": "f5c2864b",
   "metadata": {},
   "outputs": [],
   "source": [
    "G = nx.krackhardt_kite_graph()\n",
    "nx.draw(G)"
   ]
  },
  {
   "cell_type": "code",
   "execution_count": null,
   "id": "1c3a66f6",
   "metadata": {},
   "outputs": [],
   "source": [
    "# 随机图\n",
    "G = nx.erdos_renyi_graph(10, 0.5)\n",
    "nx.draw(G)"
   ]
  },
  {
   "cell_type": "markdown",
   "id": "5206b6ad",
   "metadata": {},
   "source": [
    "# 有向图 "
   ]
  },
  {
   "cell_type": "code",
   "execution_count": null,
   "id": "f0980aad",
   "metadata": {},
   "outputs": [],
   "source": [
    "# 无标度有向图\n",
    "G = nx.scale_free_graph(100)\n",
    "nx.draw(G)"
   ]
  },
  {
   "cell_type": "code",
   "execution_count": null,
   "id": "3c948da3",
   "metadata": {},
   "outputs": [],
   "source": [
    "# 空手道俱乐部数据集\n",
    "G = nx.karate_club_graph()\n",
    "nx.draw(G, with_labels=True)"
   ]
  },
  {
   "cell_type": "code",
   "execution_count": null,
   "id": "8437db38",
   "metadata": {},
   "outputs": [],
   "source": [
    "G.nodes[5][\"club\"]"
   ]
  },
  {
   "cell_type": "code",
   "execution_count": null,
   "id": "0485e401",
   "metadata": {},
   "outputs": [],
   "source": [
    "G.nodes[9][\"club\"]"
   ]
  },
  {
   "cell_type": "code",
   "execution_count": null,
   "id": "2d01e553",
   "metadata": {},
   "outputs": [],
   "source": [
    "# 雨果《悲惨世界》人物关系\n",
    "G = nx.les_miserables_graph()\n",
    "plt.figure(figsize=(12,10))\n",
    "pos = nx.spring_layout(G, seed=10)\n",
    "nx.draw(G, pos, with_labels=True)"
   ]
  },
  {
   "cell_type": "code",
   "execution_count": null,
   "id": "518d1947",
   "metadata": {},
   "outputs": [],
   "source": [
    "# Florentine families graph\n",
    "G = nx.florentine_families_graph()\n",
    "nx.draw(G, with_labels=True)"
   ]
  },
  {
   "cell_type": "code",
   "execution_count": null,
   "id": "61adbe9b",
   "metadata": {},
   "outputs": [],
   "source": [
    "# 社群聚类图\n",
    "G = nx.caveman_graph(4, 3)\n",
    "nx.draw(G, with_labels=True)"
   ]
  },
  {
   "cell_type": "code",
   "execution_count": null,
   "id": "66ab1420",
   "metadata": {},
   "outputs": [],
   "source": [
    "# 树\n",
    "tree = nx.random_tree(n=10, seed=0)\n",
    "print(nx.forest_str(tree, sources=[0]))"
   ]
  },
  {
   "cell_type": "markdown",
   "id": "4d336716",
   "metadata": {},
   "source": [
    "# 创建节点"
   ]
  },
  {
   "cell_type": "code",
   "execution_count": null,
   "id": "208c027c",
   "metadata": {},
   "outputs": [],
   "source": [
    "# 创建无节点、无连接的空图\n",
    "G = nx.Graph()\n",
    "G"
   ]
  },
  {
   "cell_type": "code",
   "execution_count": null,
   "id": "a8b1209d",
   "metadata": {},
   "outputs": [],
   "source": [
    "G.nodes"
   ]
  },
  {
   "cell_type": "code",
   "execution_count": null,
   "id": "57356e01",
   "metadata": {},
   "outputs": [],
   "source": [
    "# 可视化\n",
    "nx.draw(G)"
   ]
  },
  {
   "cell_type": "code",
   "execution_count": null,
   "id": "7693acc5",
   "metadata": {},
   "outputs": [],
   "source": [
    "#添加单个节点\n",
    "G.add_node('刘备')"
   ]
  },
  {
   "cell_type": "code",
   "execution_count": null,
   "id": "d64a29d8",
   "metadata": {},
   "outputs": [],
   "source": [
    "G.nodes"
   ]
  },
  {
   "cell_type": "code",
   "execution_count": null,
   "id": "75495eeb",
   "metadata": {},
   "outputs": [],
   "source": [
    "G.add_node('Tommy')"
   ]
  },
  {
   "cell_type": "code",
   "execution_count": null,
   "id": "b09198c6",
   "metadata": {},
   "outputs": [],
   "source": [
    "G.nodes"
   ]
  },
  {
   "cell_type": "code",
   "execution_count": null,
   "id": "931d5f69",
   "metadata": {},
   "outputs": [],
   "source": [
    "G.add_node(1)\n",
    "G.nodes"
   ]
  },
  {
   "cell_type": "code",
   "execution_count": null,
   "id": "067ba366",
   "metadata": {},
   "outputs": [],
   "source": [
    "#添加多个节点\n",
    "G.add_nodes_from(['诸葛亮', '曹操'])\n",
    "G.nodes"
   ]
  },
  {
   "cell_type": "code",
   "execution_count": null,
   "id": "4e72bb9d",
   "metadata": {},
   "outputs": [],
   "source": [
    "G.add_nodes_from(range(100, 105))\n",
    "G.nodes"
   ]
  },
  {
   "cell_type": "code",
   "execution_count": null,
   "id": "846ef16e",
   "metadata": {},
   "outputs": [],
   "source": [
    "# 添加带属性特征的节点\n",
    "G.add_nodes_from([\n",
    "    ('关羽',{'武器': '青龙偃月刀','武力值':90,'智力值':80}),\n",
    "    ('张飞',{'武器': '丈八蛇矛','武力值':85,'智力值':75}),\n",
    "    ('吕布',{'武器':'方天画戟','武力值':100,'智力值':70})\n",
    "])\n",
    "G.nodes"
   ]
  },
  {
   "cell_type": "code",
   "execution_count": null,
   "id": "f29bd191",
   "metadata": {},
   "outputs": [],
   "source": [
    "# 可视化\n",
    "nx.draw(G)"
   ]
  },
  {
   "cell_type": "code",
   "execution_count": null,
   "id": "06191f14",
   "metadata": {},
   "outputs": [],
   "source": [
    "# 创建另一个首尾相连成串的Path Graph\n",
    "H = nx.path_graph(10)\n",
    "nx.draw(H)"
   ]
  },
  {
   "cell_type": "code",
   "execution_count": null,
   "id": "937fe5a2",
   "metadata": {},
   "outputs": [],
   "source": [
    "H.nodes"
   ]
  },
  {
   "cell_type": "code",
   "execution_count": null,
   "id": "b654c7d7",
   "metadata": {},
   "outputs": [],
   "source": [
    "# 将H的节点添加到G中\n",
    "G.add_nodes_from(H)\n",
    "G.nodes"
   ]
  },
  {
   "cell_type": "code",
   "execution_count": null,
   "id": "6e49a326",
   "metadata": {},
   "outputs": [],
   "source": [
    "len(G)"
   ]
  },
  {
   "cell_type": "code",
   "execution_count": null,
   "id": "6dea0cd4",
   "metadata": {},
   "outputs": [],
   "source": [
    "nx.draw(G)"
   ]
  },
  {
   "cell_type": "code",
   "execution_count": null,
   "id": "c7ec6bec",
   "metadata": {},
   "outputs": [],
   "source": [
    "# 将H本身作为一个节点添加到G中\n",
    "G.add_node(H)\n",
    "G.nodes"
   ]
  },
  {
   "cell_type": "code",
   "execution_count": null,
   "id": "8e1b330f",
   "metadata": {},
   "outputs": [],
   "source": [
    "len(G)"
   ]
  },
  {
   "cell_type": "code",
   "execution_count": null,
   "id": "1456bcba",
   "metadata": {},
   "outputs": [],
   "source": [
    "nx.draw(G)"
   ]
  },
  {
   "cell_type": "markdown",
   "id": "7fbdfe2f",
   "metadata": {},
   "source": [
    "## 小贴士\n",
    "\n",
    "节点可以为任意[可哈希](https://docs.python.org/3/glossary.html#term-hashable)的对象，比如字符串、图像、XML对象，甚至另一个Graph、自定义的节点对象。\n",
    "\n",
    "通过这种方式，你可以根据你的应用，自由灵活地构建：图为节点、文件为节点、函数为节点，等灵活的图形式。"
   ]
  },
  {
   "cell_type": "markdown",
   "id": "598a8174",
   "metadata": {},
   "source": [
    "# 创建连接"
   ]
  },
  {
   "cell_type": "markdown",
   "id": "33357546",
   "metadata": {},
   "source": [
    "## 创建图"
   ]
  },
  {
   "cell_type": "code",
   "execution_count": null,
   "id": "cb11eccd",
   "metadata": {},
   "outputs": [],
   "source": [
    "# 创建无向图\n",
    "G = nx.Graph()\n",
    "print(G.is_directed())"
   ]
  },
  {
   "cell_type": "code",
   "execution_count": null,
   "id": "f34afe8a",
   "metadata": {},
   "outputs": [],
   "source": [
    "# 给整张图添加特征属性\n",
    "G.graph['Name'] = 'HelloWorld'\n",
    "print(G.graph)"
   ]
  },
  {
   "cell_type": "code",
   "execution_count": null,
   "id": "66a145ec",
   "metadata": {},
   "outputs": [],
   "source": [
    "# 创建有向图\n",
    "H = nx.DiGraph()\n",
    "print(H.is_directed())"
   ]
  },
  {
   "cell_type": "markdown",
   "id": "fadf6a9d",
   "metadata": {},
   "source": [
    "## 创建单个节点"
   ]
  },
  {
   "cell_type": "code",
   "execution_count": null,
   "id": "774664f4",
   "metadata": {},
   "outputs": [],
   "source": [
    "# 创建0号节点，并添加特征属性\n",
    "G.add_node(0, feature=5, label=0, jeffding=2)\n",
    "G.nodes[0]"
   ]
  },
  {
   "cell_type": "markdown",
   "id": "955b8e91",
   "metadata": {},
   "source": [
    "## 创建多个节点"
   ]
  },
  {
   "cell_type": "code",
   "execution_count": null,
   "id": "4225fb02",
   "metadata": {},
   "outputs": [],
   "source": [
    "G.add_nodes_from([\n",
    "  (1, {'feature': 1, 'label': 1, 'jeffding':3}),\n",
    "  (2, {'feature': 2, 'label': 2, 'jeffding':4})\n",
    "])"
   ]
  },
  {
   "cell_type": "markdown",
   "id": "6d70c300",
   "metadata": {},
   "source": [
    "## 全图信息"
   ]
  },
  {
   "cell_type": "code",
   "execution_count": null,
   "id": "b182ef96",
   "metadata": {},
   "outputs": [],
   "source": [
    "G.number_of_nodes()"
   ]
  },
  {
   "cell_type": "code",
   "execution_count": null,
   "id": "0e71ae64",
   "metadata": {},
   "outputs": [],
   "source": [
    "G.nodes"
   ]
  },
  {
   "cell_type": "code",
   "execution_count": null,
   "id": "9035767d",
   "metadata": {},
   "outputs": [],
   "source": [
    "G.nodes(data=True)"
   ]
  },
  {
   "cell_type": "code",
   "execution_count": null,
   "id": "c4d6ef67",
   "metadata": {},
   "outputs": [],
   "source": [
    "# 遍历所有节点，data=True 表示输出节点特征属性信息\n",
    "\n",
    "for node in G.nodes(data=True):\n",
    "    print(node)"
   ]
  },
  {
   "cell_type": "markdown",
   "id": "375fff55",
   "metadata": {},
   "source": [
    "## 创建单个连接，设置属性特征"
   ]
  },
  {
   "cell_type": "code",
   "execution_count": null,
   "id": "0859c68f",
   "metadata": {},
   "outputs": [],
   "source": [
    "G.add_edge(0, 1, weight=0.5, like=3)"
   ]
  },
  {
   "cell_type": "markdown",
   "id": "1d19918e",
   "metadata": {},
   "source": [
    "## 创建多个连接"
   ]
  },
  {
   "cell_type": "code",
   "execution_count": null,
   "id": "e49df10a",
   "metadata": {},
   "outputs": [],
   "source": [
    "G.add_edges_from([\n",
    "  (1, 2, {'weight': 0.3, 'like':5}),\n",
    "  (2, 0, {'weight': 0.1, 'like':8})\n",
    "])"
   ]
  },
  {
   "cell_type": "code",
   "execution_count": null,
   "id": "83c74b9d",
   "metadata": {},
   "outputs": [],
   "source": [
    "G.edges[(0, 1)]"
   ]
  },
  {
   "cell_type": "code",
   "execution_count": null,
   "id": "fce61133",
   "metadata": {},
   "outputs": [],
   "source": [
    "nx.draw(G, with_labels = True)"
   ]
  },
  {
   "cell_type": "markdown",
   "id": "fb7f1ba3",
   "metadata": {},
   "source": [
    "## 全图连接信息"
   ]
  },
  {
   "cell_type": "code",
   "execution_count": null,
   "id": "59cdcf59",
   "metadata": {},
   "outputs": [],
   "source": [
    "G.number_of_edges()"
   ]
  },
  {
   "cell_type": "code",
   "execution_count": null,
   "id": "ceefa0d8",
   "metadata": {},
   "outputs": [],
   "source": [
    "G.size()"
   ]
  },
  {
   "cell_type": "code",
   "execution_count": null,
   "id": "89fc0de3",
   "metadata": {},
   "outputs": [],
   "source": [
    "G.edges()"
   ]
  },
  {
   "cell_type": "code",
   "execution_count": null,
   "id": "bf036322",
   "metadata": {},
   "outputs": [],
   "source": [
    "G.edges(data=True)"
   ]
  },
  {
   "cell_type": "code",
   "execution_count": null,
   "id": "5cde6081",
   "metadata": {},
   "outputs": [],
   "source": [
    "# 遍历所有连接，data=True 表示输出连接特征属性信息\n",
    "\n",
    "for edge in G.edges(data=True):\n",
    "    print(edge)"
   ]
  },
  {
   "cell_type": "markdown",
   "id": "716b54a3",
   "metadata": {},
   "source": [
    "## 节点的连接数（Node Degree）"
   ]
  },
  {
   "cell_type": "code",
   "execution_count": null,
   "id": "36896c74",
   "metadata": {},
   "outputs": [],
   "source": [
    "# 指定节点\n",
    "node_id = 1"
   ]
  },
  {
   "cell_type": "code",
   "execution_count": null,
   "id": "659c9a12",
   "metadata": {},
   "outputs": [],
   "source": [
    "G.degree[node_id]"
   ]
  },
  {
   "cell_type": "code",
   "execution_count": null,
   "id": "51a904e6",
   "metadata": {},
   "outputs": [],
   "source": [
    "# 指定节点的所有相邻节点\n",
    "for neighbor in G.neighbors(node_id):\n",
    "    print(\"Node {} has neighbor {}\".format(node_id, neighbor))"
   ]
  },
  {
   "cell_type": "markdown",
   "id": "4f23382a",
   "metadata": {},
   "source": [
    "# nx.draw可视化函数"
   ]
  },
  {
   "cell_type": "code",
   "execution_count": null,
   "id": "5c699327",
   "metadata": {},
   "outputs": [],
   "source": [
    "# 创建4x4网格图\n",
    "G = nx.grid_2d_graph(4, 4)"
   ]
  },
  {
   "cell_type": "code",
   "execution_count": null,
   "id": "9273dd1e",
   "metadata": {},
   "outputs": [],
   "source": [
    "# 原生可视化\n",
    "pos = nx.spring_layout(G, seed=123)\n",
    "nx.draw(G, pos)"
   ]
  },
  {
   "cell_type": "code",
   "execution_count": null,
   "id": "1ed9f70a",
   "metadata": {},
   "outputs": [],
   "source": [
    "#不显示节点\n",
    "nx.draw(G, pos, node_size=0, with_labels=False)"
   ]
  },
  {
   "cell_type": "code",
   "execution_count": null,
   "id": "a0483395",
   "metadata": {},
   "outputs": [],
   "source": [
    "#设置颜色\n",
    "len(G.edges())"
   ]
  },
  {
   "cell_type": "code",
   "execution_count": null,
   "id": "0fc533f0",
   "metadata": {},
   "outputs": [],
   "source": [
    "nx.draw(\n",
    "    G,\n",
    "    pos,\n",
    "    node_color='#A0CBE2',      # 节点颜色\n",
    "    edgecolors='red',          # 节点外边缘的颜色\n",
    "    edge_color=\"blue\",         # edge的颜色\n",
    "    # edge_cmap=plt.cm.coolwarm, # 配色方案\n",
    "    node_size=800,\n",
    "    with_labels=False,\n",
    "    width=3,\n",
    ")"
   ]
  },
  {
   "cell_type": "code",
   "execution_count": null,
   "id": "ec638f22",
   "metadata": {},
   "outputs": [],
   "source": [
    "# 有向图\n",
    "nx.draw(\n",
    "    G.to_directed(),\n",
    "    pos,\n",
    "    node_color=\"tab:orange\",\n",
    "    node_size=400,\n",
    "    with_labels=False,\n",
    "    edgecolors=\"tab:gray\",\n",
    "    arrowsize=10,\n",
    "    width=2,\n",
    ")"
   ]
  },
  {
   "cell_type": "markdown",
   "id": "2a1d29a0",
   "metadata": {},
   "source": [
    "## 设置每个节点的坐标"
   ]
  },
  {
   "cell_type": "code",
   "execution_count": null,
   "id": "8a37a8d2",
   "metadata": {},
   "outputs": [],
   "source": [
    "# 无向图\n",
    "G = nx.Graph()\n",
    "G.add_edge(1, 2)\n",
    "G.add_edge(1, 3)\n",
    "G.add_edge(1, 5)\n",
    "G.add_edge(2, 3)\n",
    "G.add_edge(3, 4)\n",
    "G.add_edge(4, 5)\n",
    "nx.draw(G, with_labels=True)"
   ]
  },
  {
   "cell_type": "code",
   "execution_count": null,
   "id": "dd1f35be",
   "metadata": {},
   "outputs": [],
   "source": [
    "# 设置每个节点可视化时的坐标\n",
    "pos = {1: (0, 0), 2: (-1, 0.3), 3: (2, 0.17), 4: (4, 0.255), 5: (5, 0.03)}\n",
    "\n",
    "# 设置其它可视化样式\n",
    "options = {\n",
    "    \"font_size\": 36,\n",
    "    \"node_size\": 3000,\n",
    "    \"node_color\": \"white\",\n",
    "    \"edgecolors\": \"black\", \n",
    "    \"linewidths\": 5, # 节点线宽\n",
    "    \"width\": 5, # edge线宽\n",
    "}\n",
    "\n",
    "nx.draw_networkx(G, pos, **options)\n",
    "\n",
    "ax = plt.gca()\n",
    "ax.margins(0.20) # 在图的边缘留白，防止节点被截断\n",
    "plt.axis(\"off\")\n",
    "plt.show()"
   ]
  },
  {
   "cell_type": "code",
   "execution_count": null,
   "id": "72fe4cdd",
   "metadata": {},
   "outputs": [],
   "source": [
    "# 有向图\n",
    "G = nx.DiGraph([(0, 3), (1, 3), (2, 4), (3, 5), (3, 6), (4, 6), (5, 6)])\n",
    "nx.draw(G, with_labels=True)"
   ]
  },
  {
   "cell_type": "code",
   "execution_count": null,
   "id": "6eb52914",
   "metadata": {},
   "outputs": [],
   "source": [
    "# 可视化时每一列包含的节点\n",
    "left_nodes = [0, 1, 2]\n",
    "middle_nodes = [3, 4]\n",
    "right_nodes = [5, 6]"
   ]
  },
  {
   "cell_type": "code",
   "execution_count": null,
   "id": "fb9ec4bb",
   "metadata": {},
   "outputs": [],
   "source": [
    "# 可视化时每个节点的坐标\n",
    "pos = {n: (0, i) for i, n in enumerate(left_nodes)}\n",
    "pos.update({n: (1, i + 0.5) for i, n in enumerate(middle_nodes)})\n",
    "pos.update({n: (2, i + 0.5) for i, n in enumerate(right_nodes)})"
   ]
  },
  {
   "cell_type": "code",
   "execution_count": null,
   "id": "112f3bf0",
   "metadata": {},
   "outputs": [],
   "source": [
    "pos"
   ]
  },
  {
   "cell_type": "code",
   "execution_count": null,
   "id": "f0d191e3",
   "metadata": {},
   "outputs": [],
   "source": [
    "nx.draw_networkx(G, pos, **options)\n",
    "\n",
    "ax = plt.gca()\n",
    "ax.margins(0.20) # 在图的边缘留白，防止节点被截断\n",
    "plt.axis(\"off\")\n",
    "plt.show()"
   ]
  },
  {
   "cell_type": "code",
   "execution_count": null,
   "id": "cd8dc2c9",
   "metadata": {},
   "outputs": [],
   "source": [
    "G = nx.house_graph()"
   ]
  },
  {
   "cell_type": "code",
   "execution_count": null,
   "id": "149b8a55",
   "metadata": {},
   "outputs": [],
   "source": [
    "nx.draw(G, with_labels=True)"
   ]
  },
  {
   "cell_type": "code",
   "execution_count": null,
   "id": "98368786",
   "metadata": {},
   "outputs": [],
   "source": [
    "# 设置节点坐标\n",
    "pos = {0: (0, 0), 1: (1, 0), 2: (0, 1), 3: (1, 1), 4: (0.5, 2.0)}"
   ]
  },
  {
   "cell_type": "code",
   "execution_count": null,
   "id": "39fc208f",
   "metadata": {},
   "outputs": [],
   "source": [
    "plt.figure(figsize=(10,8))\n",
    "# 绘制“墙角”的四个节点\n",
    "nx.draw_networkx_nodes(G, pos, node_size=3000, nodelist=[0, 1, 2, 3], node_color=\"tab:blue\")\n",
    "# 绘制“屋顶”节点\n",
    "nx.draw_networkx_nodes(G, pos, node_size=2000, nodelist=[4], node_color=\"tab:orange\")\n",
    "# 绘制连接\n",
    "nx.draw_networkx_edges(G, pos, alpha=0.5, width=6)\n",
    "plt.axis(\"off\") # 去掉坐标轴\n",
    "plt.show()"
   ]
  },
  {
   "cell_type": "markdown",
   "id": "ef74cde7",
   "metadata": {},
   "source": [
    "## 有向图可视化模板"
   ]
  },
  {
   "cell_type": "code",
   "execution_count": null,
   "id": "a4947758",
   "metadata": {},
   "outputs": [],
   "source": [
    "# 创建有向图\n",
    "seed = 13648\n",
    "G = nx.random_k_out_graph(10, 3, 0.5, seed=seed)\n",
    "pos = nx.spring_layout(G, seed=seed)"
   ]
  },
  {
   "cell_type": "code",
   "execution_count": null,
   "id": "b1850180",
   "metadata": {},
   "outputs": [],
   "source": [
    "nx.draw(G, pos, with_labels=True)"
   ]
  },
  {
   "cell_type": "markdown",
   "id": "cd1e85bd",
   "metadata": {},
   "source": [
    "## 高级可视化设置"
   ]
  },
  {
   "cell_type": "code",
   "execution_count": null,
   "id": "58321f90",
   "metadata": {},
   "outputs": [],
   "source": [
    "# 节点大小\n",
    "node_sizes = [12 + 10 * i for i in range(len(G))]"
   ]
  },
  {
   "cell_type": "code",
   "execution_count": null,
   "id": "329af127",
   "metadata": {},
   "outputs": [],
   "source": [
    "node_sizes"
   ]
  },
  {
   "cell_type": "code",
   "execution_count": null,
   "id": "2810cbdf",
   "metadata": {},
   "outputs": [],
   "source": [
    "# 节点颜色\n",
    "M = G.number_of_edges()\n",
    "edge_colors = range(2, M + 2)"
   ]
  },
  {
   "cell_type": "code",
   "execution_count": null,
   "id": "9f59c3c1",
   "metadata": {},
   "outputs": [],
   "source": [
    "edge_colors"
   ]
  },
  {
   "cell_type": "code",
   "execution_count": null,
   "id": "2855b20a",
   "metadata": {},
   "outputs": [],
   "source": [
    "# 节点透明度\n",
    "edge_alphas = [(5 + i) / (M + 4) for i in range(M)]"
   ]
  },
  {
   "cell_type": "code",
   "execution_count": null,
   "id": "4673458b",
   "metadata": {},
   "outputs": [],
   "source": [
    "edge_alphas"
   ]
  },
  {
   "cell_type": "code",
   "execution_count": null,
   "id": "b3231ffe",
   "metadata": {},
   "outputs": [],
   "source": [
    "# 配色方案\n",
    "cmap = plt.cm.plasma\n",
    "# cmap = plt.cm.Blues"
   ]
  },
  {
   "cell_type": "code",
   "execution_count": null,
   "id": "dff94ec5",
   "metadata": {},
   "outputs": [],
   "source": [
    "import matplotlib as mpl\n",
    "plt.figure(figsize=(10,8))\n",
    "\n",
    "# 绘制节点\n",
    "nodes = nx.draw_networkx_nodes(G, pos, node_size=node_sizes, node_color=\"indigo\")\n",
    "\n",
    "# 绘制连接\n",
    "edges = nx.draw_networkx_edges(\n",
    "    G,\n",
    "    pos,\n",
    "    node_size=node_sizes,   # 节点尺寸\n",
    "    arrowstyle=\"->\",        # 箭头样式\n",
    "    arrowsize=20,           # 箭头尺寸\n",
    "    edge_color=edge_colors, # 连接颜色\n",
    "    edge_cmap=cmap,         # 连接配色方案\n",
    "    width=4                # 连接线宽\n",
    ")\n",
    "\n",
    "\n",
    "# 设置每个连接的透明度\n",
    "for i in range(M):\n",
    "    edges[i].set_alpha(edge_alphas[i])\n",
    "\n",
    "# 调色图例\n",
    "pc = mpl.collections.PatchCollection(edges, cmap=cmap)\n",
    "pc.set_array(edge_colors)\n",
    "plt.colorbar(pc)\n",
    "\n",
    "ax = plt.gca()\n",
    "ax.set_axis_off()\n",
    "plt.show()"
   ]
  },
  {
   "cell_type": "markdown",
   "id": "9f97c221",
   "metadata": {},
   "source": [
    "# 自我中心图（Ego图）\n",
    "\n",
    "在NetworkX中创建`自我中心图（Ego图）`，并找出连接数最大的主节点，构建以主节点为中心的邻域子图。"
   ]
  },
  {
   "cell_type": "code",
   "execution_count": null,
   "id": "69f89237",
   "metadata": {},
   "outputs": [],
   "source": [
    "# 引入包\n",
    "from operator import itemgetter"
   ]
  },
  {
   "cell_type": "markdown",
   "id": "db397c15",
   "metadata": {},
   "source": [
    "## 创建Barabási-Albert无标度网络\n",
    "\n",
    "论文：A. L. Barabási and R. Albert \"Emergence of scaling in random networks\", Science 286, pp 509-512, 1999.\n",
    "\n",
    "n个节点逐渐生长，新节点与degree高的旧节点产生m条连接。"
   ]
  },
  {
   "cell_type": "code",
   "execution_count": null,
   "id": "ef27eda2",
   "metadata": {},
   "outputs": [],
   "source": [
    "n = 1000\n",
    "m = 2\n",
    "seed = 20532\n",
    "G = nx.barabasi_albert_graph(n, m, seed=seed)"
   ]
  },
  {
   "cell_type": "code",
   "execution_count": null,
   "id": "195c5738",
   "metadata": {},
   "outputs": [],
   "source": [
    "pos = nx.spring_layout(G, seed=seed)\n",
    "nx.draw(G, pos)"
   ]
  },
  {
   "cell_type": "code",
   "execution_count": null,
   "id": "73963828",
   "metadata": {},
   "outputs": [],
   "source": [
    "# 找到degree最大的主节点\n",
    "largest_hub, degree = sorted(G.degree(), key=itemgetter(1))[-1]"
   ]
  },
  {
   "cell_type": "code",
   "execution_count": null,
   "id": "7db23085",
   "metadata": {},
   "outputs": [],
   "source": [
    "largest_hub"
   ]
  },
  {
   "cell_type": "code",
   "execution_count": null,
   "id": "a24eea2c",
   "metadata": {},
   "outputs": [],
   "source": [
    "degree"
   ]
  },
  {
   "cell_type": "code",
   "execution_count": null,
   "id": "6337ef3a",
   "metadata": {},
   "outputs": [],
   "source": [
    "# 找到以主节点为中心的邻域子图（Ego Graph）\n",
    "nx.ego_graph?"
   ]
  },
  {
   "cell_type": "code",
   "execution_count": null,
   "id": "dcbaef8b",
   "metadata": {},
   "outputs": [],
   "source": [
    "hub_ego = nx.ego_graph(G, largest_hub, radius=1)"
   ]
  },
  {
   "cell_type": "code",
   "execution_count": null,
   "id": "01dd59f4",
   "metadata": {},
   "outputs": [],
   "source": [
    "pos = nx.spring_layout(hub_ego, seed=seed)\n",
    "nx.draw(hub_ego, pos, node_color=\"b\", node_size=50, with_labels=False)\n",
    "\n",
    "# 大红显示主节点\n",
    "options = {\"node_size\": 300, \"node_color\": \"r\"}\n",
    "nx.draw_networkx_nodes(hub_ego, pos, nodelist=[largest_hub], **options)\n",
    "\n",
    "plt.show()"
   ]
  },
  {
   "cell_type": "markdown",
   "id": "6d017c06",
   "metadata": {},
   "source": [
    "# PageRank节点重要度"
   ]
  },
  {
   "cell_type": "code",
   "execution_count": null,
   "id": "15532c2a",
   "metadata": {},
   "outputs": [],
   "source": [
    "G = nx.star_graph(7)"
   ]
  },
  {
   "cell_type": "code",
   "execution_count": null,
   "id": "430613c9",
   "metadata": {},
   "outputs": [],
   "source": [
    "nx.draw(G, with_labels = True)"
   ]
  },
  {
   "cell_type": "code",
   "execution_count": null,
   "id": "379a7261",
   "metadata": {},
   "outputs": [],
   "source": [
    "#计算PageRank节点重要度\n",
    "pagerank = nx.pagerank(G, alpha=0.8)"
   ]
  },
  {
   "cell_type": "code",
   "execution_count": null,
   "id": "49e965e0",
   "metadata": {},
   "outputs": [],
   "source": [
    "pagerank"
   ]
  },
  {
   "cell_type": "markdown",
   "id": "a97064bc",
   "metadata": {},
   "source": [
    "# 节点连接数Node Degree度分析\n",
    "\n",
    "在NetworkX中，计算并统计图中每个节点的连接数Node Degree，绘制可视化和直方图。"
   ]
  },
  {
   "cell_type": "markdown",
   "id": "df4e103d",
   "metadata": {},
   "source": [
    "## 创建图"
   ]
  },
  {
   "cell_type": "code",
   "execution_count": null,
   "id": "41b3ac89",
   "metadata": {},
   "outputs": [],
   "source": [
    "# 创建 Erdős-Rényi 随机图，也称作 binomial graph\n",
    "# n-节点数\n",
    "# p-任意两个节点产生连接的概率\n",
    "\n",
    "G = nx.gnp_random_graph(100, 0.02, seed=10374196)"
   ]
  },
  {
   "cell_type": "code",
   "execution_count": null,
   "id": "a2d8ad71",
   "metadata": {},
   "outputs": [],
   "source": [
    "# 初步可视化\n",
    "pos = nx.spring_layout(G, seed=10)\n",
    "nx.draw(G, pos)"
   ]
  },
  {
   "cell_type": "markdown",
   "id": "6578295c",
   "metadata": {},
   "source": [
    "##  最大连通域子图"
   ]
  },
  {
   "cell_type": "code",
   "execution_count": null,
   "id": "c25c8738",
   "metadata": {},
   "outputs": [],
   "source": [
    "Gcc = G.subgraph(sorted(nx.connected_components(G), key=len, reverse=True)[0])"
   ]
  },
  {
   "cell_type": "code",
   "execution_count": null,
   "id": "edc6681f",
   "metadata": {},
   "outputs": [],
   "source": [
    "pos = nx.spring_layout(Gcc, seed=10396953)\n",
    "# nx.draw(Gcc, pos)\n",
    "\n",
    "nx.draw_networkx_nodes(Gcc, pos, node_size=20)\n",
    "nx.draw_networkx_edges(Gcc, pos, alpha=0.4)"
   ]
  },
  {
   "cell_type": "code",
   "execution_count": null,
   "id": "cd4eec65",
   "metadata": {},
   "outputs": [],
   "source": [
    "nx.draw_networkx?"
   ]
  },
  {
   "cell_type": "code",
   "execution_count": null,
   "id": "7f34af1e",
   "metadata": {},
   "outputs": [],
   "source": [
    "plt.figure(figsize=(12,8))\n",
    "pos = nx.spring_layout(Gcc, seed=10396953)\n",
    "\n",
    "# 设置其它可视化样式\n",
    "options = {\n",
    "    \"font_size\": 12,\n",
    "    \"node_size\": 350,\n",
    "    \"node_color\": \"white\",\n",
    "    \"edgecolors\": \"black\",\n",
    "    \"linewidths\": 1, # 节点线宽\n",
    "    \"width\": 2, # edge线宽\n",
    "}\n",
    "\n",
    "nx.draw_networkx(Gcc, pos, **options)\n",
    "\n",
    "plt.title('Connected components of G', fontsize=20)\n",
    "plt.axis('off')\n",
    "plt.show()"
   ]
  },
  {
   "cell_type": "markdown",
   "id": "12fbd742",
   "metadata": {},
   "source": [
    "## 每个节点的连接数（degree）"
   ]
  },
  {
   "cell_type": "code",
   "execution_count": null,
   "id": "ebcbe3d7",
   "metadata": {},
   "outputs": [],
   "source": [
    "G.degree()"
   ]
  },
  {
   "cell_type": "code",
   "execution_count": null,
   "id": "d40006fc",
   "metadata": {},
   "outputs": [],
   "source": [
    "degree_sequence = sorted((d for n, d in G.degree()), reverse=True)"
   ]
  },
  {
   "cell_type": "code",
   "execution_count": null,
   "id": "a5698ef8",
   "metadata": {},
   "outputs": [],
   "source": [
    "degree_sequence"
   ]
  },
  {
   "cell_type": "code",
   "execution_count": null,
   "id": "9ea30c21",
   "metadata": {},
   "outputs": [],
   "source": [
    "plt.figure(figsize=(12,8))\n",
    "plt.plot(degree_sequence, \"b-\", marker=\"o\")\n",
    "plt.title('Degree Rank Plot', fontsize=20)\n",
    "plt.ylabel('Degree', fontsize=25)\n",
    "plt.xlabel('Rank', fontsize=25)\n",
    "plt.tick_params(labelsize=20) # 设置坐标文字大小\n",
    "plt.show()"
   ]
  },
  {
   "cell_type": "markdown",
   "id": "e0d30f6f",
   "metadata": {},
   "source": [
    "## 节点Degree直方图"
   ]
  },
  {
   "cell_type": "code",
   "execution_count": null,
   "id": "98eec9ec",
   "metadata": {},
   "outputs": [],
   "source": [
    "import numpy as np\n",
    "X = np.unique(degree_sequence, return_counts=True)[0]\n",
    "Y = np.unique(degree_sequence, return_counts=True)[1]"
   ]
  },
  {
   "cell_type": "code",
   "execution_count": null,
   "id": "6f7bf724",
   "metadata": {},
   "outputs": [],
   "source": [
    "X"
   ]
  },
  {
   "cell_type": "code",
   "execution_count": null,
   "id": "43505956",
   "metadata": {},
   "outputs": [],
   "source": [
    "Y"
   ]
  },
  {
   "cell_type": "code",
   "execution_count": null,
   "id": "16f82867",
   "metadata": {},
   "outputs": [],
   "source": [
    "plt.figure(figsize=(12,8))\n",
    "# plt.bar(*np.unique(degree_sequence, return_counts=True))\n",
    "plt.bar(X, Y)\n",
    "\n",
    "plt.title('Degree Histogram', fontsize=20)\n",
    "plt.ylabel('Number', fontsize=25)\n",
    "plt.xlabel('Degree', fontsize=25)\n",
    "plt.tick_params(labelsize=20) # 设置坐标文字大小\n",
    "plt.show()\n",
    "plt.show()"
   ]
  },
  {
   "cell_type": "markdown",
   "id": "e4fa6cac",
   "metadata": {},
   "source": [
    "# 棒棒糖图特征分析"
   ]
  },
  {
   "cell_type": "markdown",
   "id": "1c5f12ef",
   "metadata": {},
   "source": [
    "## 导入图"
   ]
  },
  {
   "cell_type": "code",
   "execution_count": null,
   "id": "2eca0cb3",
   "metadata": {},
   "outputs": [],
   "source": [
    "# 第一个参数指定头部节点数，第二个参数指定尾部节点数\n",
    "G = nx.lollipop_graph(4, 7)"
   ]
  },
  {
   "cell_type": "code",
   "execution_count": null,
   "id": "81f8e09f",
   "metadata": {},
   "outputs": [],
   "source": [
    "#可视化\n",
    "pos = nx.spring_layout(G, seed=3068)\n",
    "nx.draw(G, pos=pos, with_labels=True)\n",
    "plt.show()"
   ]
  },
  {
   "cell_type": "markdown",
   "id": "ff6645b3",
   "metadata": {},
   "source": [
    "## 图数据分析"
   ]
  },
  {
   "cell_type": "code",
   "execution_count": null,
   "id": "3a54a1f9",
   "metadata": {},
   "outputs": [],
   "source": [
    "# 半径\n",
    "nx.radius(G)"
   ]
  },
  {
   "cell_type": "code",
   "execution_count": null,
   "id": "41e41c4c",
   "metadata": {},
   "outputs": [],
   "source": [
    "# 直径\n",
    "nx.diameter(G)"
   ]
  },
  {
   "cell_type": "code",
   "execution_count": null,
   "id": "35273a3d",
   "metadata": {},
   "outputs": [],
   "source": [
    "# 偏心度：每个节点到图中其它节点的最远距离\n",
    "nx.eccentricity(G)"
   ]
  },
  {
   "cell_type": "code",
   "execution_count": null,
   "id": "74c29543",
   "metadata": {},
   "outputs": [],
   "source": [
    "# 中心节点，偏心度与半径相等的节点\n",
    "nx.center(G)"
   ]
  },
  {
   "cell_type": "code",
   "execution_count": null,
   "id": "39335d72",
   "metadata": {},
   "outputs": [],
   "source": [
    "# 外围节点，偏心度与直径相等的节点\n",
    "nx.periphery(G)"
   ]
  },
  {
   "cell_type": "code",
   "execution_count": null,
   "id": "90292a22",
   "metadata": {},
   "outputs": [],
   "source": [
    "nx.density?"
   ]
  },
  {
   "cell_type": "code",
   "execution_count": null,
   "id": "60f12973",
   "metadata": {},
   "outputs": [],
   "source": [
    "nx.density(G)"
   ]
  },
  {
   "cell_type": "markdown",
   "id": "3c0d7652",
   "metadata": {},
   "source": [
    "n为节点个数，m为连接个数\n",
    "\n",
    "对于无向图：\n",
    "\n",
    "$$\n",
    "density = \\frac{2m}{n(n-1)}\n",
    "$$\n",
    "\n",
    "对于有向图：\n",
    "\n",
    "$$\n",
    "density = \\frac{m}{n(n-1)}\n",
    "$$\n",
    "\n",
    "无连接图的density为0，全连接图的density为1，Multigraph（多重连接图）和带self loop图的density可能大于1。"
   ]
  },
  {
   "cell_type": "markdown",
   "id": "b22002a3",
   "metadata": {},
   "source": [
    "## 3号节点到图中其它节点的最短距离"
   ]
  },
  {
   "cell_type": "code",
   "execution_count": null,
   "id": "50e195b8",
   "metadata": {},
   "outputs": [],
   "source": [
    "node_id = 3\n",
    "nx.single_source_shortest_path_length(G, node_id)"
   ]
  },
  {
   "cell_type": "markdown",
   "id": "b8d27b59",
   "metadata": {},
   "source": [
    "## 每两个节点之间的最短距离"
   ]
  },
  {
   "cell_type": "code",
   "execution_count": null,
   "id": "ad718d22",
   "metadata": {},
   "outputs": [],
   "source": [
    "pathlengths = []\n",
    "for v in G.nodes():\n",
    "    spl = nx.single_source_shortest_path_length(G, v)\n",
    "    for p in spl:\n",
    "        print('{} --> {} 最短距离 {}'.format(v, p, spl[p]))\n",
    "        pathlengths.append(spl[p])"
   ]
  },
  {
   "cell_type": "code",
   "execution_count": null,
   "id": "d1a71535",
   "metadata": {},
   "outputs": [],
   "source": [
    "# 平均最短距离\n",
    "sum(pathlengths) / len(pathlengths)"
   ]
  },
  {
   "cell_type": "markdown",
   "id": "9438b16d",
   "metadata": {},
   "source": [
    "## 不同距离的节点对个数"
   ]
  },
  {
   "cell_type": "code",
   "execution_count": null,
   "id": "b9c1cb01",
   "metadata": {},
   "outputs": [],
   "source": [
    "dist = {}\n",
    "for p in pathlengths:\n",
    "    if p in dist:\n",
    "        dist[p] += 1\n",
    "    else:\n",
    "        dist[p] = 1"
   ]
  },
  {
   "cell_type": "code",
   "execution_count": null,
   "id": "7e1ca668",
   "metadata": {},
   "outputs": [],
   "source": [
    "dist"
   ]
  },
  {
   "cell_type": "markdown",
   "id": "10c81820",
   "metadata": {},
   "source": [
    "# 计算节点特征"
   ]
  },
  {
   "cell_type": "markdown",
   "id": "9e3231eb",
   "metadata": {},
   "source": [
    "## 可视化辅助函数"
   ]
  },
  {
   "cell_type": "code",
   "execution_count": null,
   "id": "2ace5ad5",
   "metadata": {},
   "outputs": [],
   "source": [
    "def draw(G, pos, measures, measure_name):\n",
    "    \n",
    "    nodes = nx.draw_networkx_nodes(G, pos, node_size=250, cmap=plt.cm.plasma, \n",
    "                                   node_color=list(measures.values()),\n",
    "                                   nodelist=measures.keys())\n",
    "    nodes.set_norm(mcolors.SymLogNorm(linthresh=0.01, linscale=1, base=10))\n",
    "    # labels = nx.draw_networkx_labels(G, pos)\n",
    "    edges = nx.draw_networkx_edges(G, pos)\n",
    "\n",
    "    # plt.figure(figsize=(10,8))\n",
    "    plt.title(measure_name)\n",
    "    plt.colorbar(nodes)\n",
    "    plt.axis('off')\n",
    "    plt.show()"
   ]
  },
  {
   "cell_type": "markdown",
   "id": "54f686e4",
   "metadata": {},
   "source": [
    "## 导入无向图"
   ]
  },
  {
   "cell_type": "code",
   "execution_count": null,
   "id": "8f0a6e45",
   "metadata": {},
   "outputs": [],
   "source": [
    "G = nx.karate_club_graph()"
   ]
  },
  {
   "cell_type": "code",
   "execution_count": null,
   "id": "8fdf7d0c",
   "metadata": {},
   "outputs": [],
   "source": [
    "pos = nx.spring_layout(G, seed=675)\n",
    "nx.draw(G, pos, with_labels=True)"
   ]
  },
  {
   "cell_type": "markdown",
   "id": "da87e736",
   "metadata": {},
   "source": [
    "## 导入有向图"
   ]
  },
  {
   "cell_type": "code",
   "execution_count": null,
   "id": "a30657ed",
   "metadata": {},
   "outputs": [],
   "source": [
    "DiG = nx.DiGraph()\n",
    "DiG.add_edges_from([(2, 3), (3, 2), (4, 1), (4, 2), (5, 2), (5, 4),\n",
    "                    (5, 6), (6, 2), (6, 5), (7, 2), (7, 5), (8, 2),\n",
    "                    (8, 5), (9, 2), (9, 5), (10, 5), (11, 5)])\n",
    "# dpos = {1: [0.1, 0.9], 2: [0.4, 0.8], 3: [0.8, 0.9], 4: [0.15, 0.55],\n",
    "#         5: [0.5,  0.5], 6: [0.8,  0.5], 7: [0.22, 0.3], 8: [0.30, 0.27],\n",
    "#         9: [0.38, 0.24], 10: [0.7,  0.3], 11: [0.75, 0.35]}"
   ]
  },
  {
   "cell_type": "code",
   "execution_count": null,
   "id": "b5ce7f1f",
   "metadata": {},
   "outputs": [],
   "source": [
    "nx.draw(DiG, pos, with_labels=True)"
   ]
  },
  {
   "cell_type": "markdown",
   "id": "e5366b16",
   "metadata": {},
   "source": [
    "## Node Degree"
   ]
  },
  {
   "cell_type": "code",
   "execution_count": null,
   "id": "426dd7b1",
   "metadata": {},
   "outputs": [],
   "source": [
    "list(nx.degree(G))"
   ]
  },
  {
   "cell_type": "code",
   "execution_count": null,
   "id": "ff8c388f",
   "metadata": {},
   "outputs": [],
   "source": [
    "dict(G.degree())"
   ]
  },
  {
   "cell_type": "code",
   "execution_count": null,
   "id": "202f8ae0",
   "metadata": {},
   "outputs": [],
   "source": [
    "# 字典按值排序\n",
    "sorted(dict(G.degree()).items(),key=lambda x : x[1], reverse=True)   "
   ]
  },
  {
   "cell_type": "code",
   "execution_count": null,
   "id": "20c32f07",
   "metadata": {},
   "outputs": [],
   "source": [
    "import matplotlib.colors as mcolors\n",
    "draw(G, pos, dict(G.degree()), 'Node Degree')"
   ]
  },
  {
   "cell_type": "markdown",
   "id": "1ad9dfe7",
   "metadata": {},
   "source": [
    "## NetworkX文档：节点重要度特征 Centrality\n",
    "\n",
    "https://networkx.org/documentation/stable/reference/algorithms/centrality.html"
   ]
  },
  {
   "cell_type": "markdown",
   "id": "8c2e4714",
   "metadata": {},
   "source": [
    "## Degree Centrality-无向图"
   ]
  },
  {
   "cell_type": "code",
   "execution_count": null,
   "id": "5dc6123a",
   "metadata": {},
   "outputs": [],
   "source": [
    "nx.degree_centrality(G)"
   ]
  },
  {
   "cell_type": "code",
   "execution_count": null,
   "id": "024a6594",
   "metadata": {},
   "outputs": [],
   "source": [
    "draw(G, pos, nx.degree_centrality(G), 'Degree Centrality')"
   ]
  },
  {
   "cell_type": "markdown",
   "id": "2e5bcf86",
   "metadata": {},
   "source": [
    "## Degree Centrality-有向图"
   ]
  },
  {
   "cell_type": "code",
   "execution_count": null,
   "id": "aedbaed0",
   "metadata": {},
   "outputs": [],
   "source": [
    "nx.in_degree_centrality(DiG)"
   ]
  },
  {
   "cell_type": "code",
   "execution_count": null,
   "id": "92741b4c",
   "metadata": {},
   "outputs": [],
   "source": [
    "nx.out_degree_centrality(DiG)"
   ]
  },
  {
   "cell_type": "code",
   "execution_count": null,
   "id": "09e71be0",
   "metadata": {},
   "outputs": [],
   "source": [
    "draw(DiG, pos, nx.in_degree_centrality(DiG), 'DiGraph Degree Centrality')"
   ]
  },
  {
   "cell_type": "code",
   "execution_count": null,
   "id": "1da0c37b",
   "metadata": {},
   "outputs": [],
   "source": [
    "draw(DiG, pos, nx.out_degree_centrality(DiG), 'DiGraph Degree Centrality')"
   ]
  },
  {
   "cell_type": "markdown",
   "id": "42128d8a",
   "metadata": {},
   "source": [
    "## Eigenvector Centrality-无向图"
   ]
  },
  {
   "cell_type": "code",
   "execution_count": null,
   "id": "57a45e21",
   "metadata": {},
   "outputs": [],
   "source": [
    "nx.eigenvector_centrality(G)"
   ]
  },
  {
   "cell_type": "code",
   "execution_count": null,
   "id": "6a62c0a5",
   "metadata": {},
   "outputs": [],
   "source": [
    "draw(G, pos, nx.eigenvector_centrality(G), 'Eigenvector Centrality')"
   ]
  },
  {
   "cell_type": "markdown",
   "id": "ee22420b",
   "metadata": {},
   "source": [
    "## Eigenvector Centrality-有向图"
   ]
  },
  {
   "cell_type": "code",
   "execution_count": null,
   "id": "f12f4fdb",
   "metadata": {},
   "outputs": [],
   "source": [
    "nx.eigenvector_centrality_numpy(DiG)"
   ]
  },
  {
   "cell_type": "code",
   "execution_count": null,
   "id": "6736b056",
   "metadata": {},
   "outputs": [],
   "source": [
    "draw(DiG, pos, nx.eigenvector_centrality_numpy(DiG), 'DiGraph Eigenvector Centrality')"
   ]
  },
  {
   "cell_type": "markdown",
   "id": "70644ad2",
   "metadata": {},
   "source": [
    "## Betweenness Centrality（必经之地）"
   ]
  },
  {
   "cell_type": "code",
   "execution_count": null,
   "id": "2ec82957",
   "metadata": {},
   "outputs": [],
   "source": [
    "nx.betweenness_centrality?"
   ]
  },
  {
   "cell_type": "code",
   "execution_count": null,
   "id": "58b9ae87",
   "metadata": {},
   "outputs": [],
   "source": [
    "nx.betweenness_centrality??"
   ]
  },
  {
   "cell_type": "code",
   "execution_count": null,
   "id": "b72b2bea",
   "metadata": {},
   "outputs": [],
   "source": [
    "nx.betweenness_centrality(G)"
   ]
  },
  {
   "cell_type": "code",
   "execution_count": null,
   "id": "aa9076ec",
   "metadata": {},
   "outputs": [],
   "source": [
    "draw(G, pos, nx.betweenness_centrality(G), 'Betweenness Centrality')"
   ]
  },
  {
   "cell_type": "markdown",
   "id": "eca3b100",
   "metadata": {},
   "source": [
    "## Closeness Centrality（去哪儿都近）"
   ]
  },
  {
   "cell_type": "code",
   "execution_count": null,
   "id": "7de5252e",
   "metadata": {},
   "outputs": [],
   "source": [
    "nx.closeness_centrality(G)"
   ]
  },
  {
   "cell_type": "code",
   "execution_count": null,
   "id": "de650515",
   "metadata": {},
   "outputs": [],
   "source": [
    "draw(G, pos, nx.closeness_centrality(G), 'Closeness Centrality')"
   ]
  },
  {
   "cell_type": "markdown",
   "id": "b73680c6",
   "metadata": {},
   "source": [
    "## PageRank"
   ]
  },
  {
   "cell_type": "code",
   "execution_count": null,
   "id": "1119a7b2",
   "metadata": {},
   "outputs": [],
   "source": [
    "nx.pagerank(DiG, alpha=0.85)"
   ]
  },
  {
   "cell_type": "code",
   "execution_count": null,
   "id": "2758e1f4",
   "metadata": {},
   "outputs": [],
   "source": [
    "draw(DiG, pos, nx.pagerank(DiG, alpha=0.85), 'DiGraph PageRank')"
   ]
  },
  {
   "cell_type": "markdown",
   "id": "642ba22c",
   "metadata": {},
   "source": [
    "## Katz Centrality"
   ]
  },
  {
   "cell_type": "code",
   "execution_count": null,
   "id": "dbc7c964",
   "metadata": {},
   "outputs": [],
   "source": [
    "nx.katz_centrality(G, alpha=0.1, beta=1.0)"
   ]
  },
  {
   "cell_type": "code",
   "execution_count": null,
   "id": "87dd9345",
   "metadata": {},
   "outputs": [],
   "source": [
    "draw(G, pos, nx.katz_centrality(G, alpha=0.1, beta=1.0), 'Katz Centrality')"
   ]
  },
  {
   "cell_type": "code",
   "execution_count": null,
   "id": "8429ebee",
   "metadata": {},
   "outputs": [],
   "source": [
    "draw(DiG, pos, nx.katz_centrality(DiG, alpha=0.1, beta=1.0), 'DiGraph Katz Centrality')"
   ]
  },
  {
   "cell_type": "markdown",
   "id": "66499927",
   "metadata": {},
   "source": [
    "## HITS Hubs and Authorities"
   ]
  },
  {
   "cell_type": "code",
   "execution_count": null,
   "id": "21fa20c5",
   "metadata": {},
   "outputs": [],
   "source": [
    "h, a = nx.hits(DiG)\n",
    "draw(DiG, pos, h, 'DiGraph HITS Hubs')\n",
    "draw(DiG, pos, a, 'DiGraph HITS Authorities')"
   ]
  },
  {
   "cell_type": "markdown",
   "id": "1f03856b",
   "metadata": {},
   "source": [
    "## NetworkX文档：社群属性 Clustering\n",
    "\n",
    "https://networkx.org/documentation/stable/reference/algorithms/clustering.html"
   ]
  },
  {
   "cell_type": "code",
   "execution_count": null,
   "id": "62adc2f6",
   "metadata": {},
   "outputs": [],
   "source": [
    "nx.draw(G, pos, with_labels=True)"
   ]
  },
  {
   "cell_type": "markdown",
   "id": "b1f26c74",
   "metadata": {},
   "source": [
    "## 三角形个数"
   ]
  },
  {
   "cell_type": "code",
   "execution_count": null,
   "id": "5f0da28d",
   "metadata": {},
   "outputs": [],
   "source": [
    "nx.triangles(G)"
   ]
  },
  {
   "cell_type": "code",
   "execution_count": null,
   "id": "340c090b",
   "metadata": {},
   "outputs": [],
   "source": [
    "nx.triangles(G, 0)"
   ]
  },
  {
   "cell_type": "code",
   "execution_count": null,
   "id": "9ee1a228",
   "metadata": {},
   "outputs": [],
   "source": [
    "draw(G, pos, nx.triangles(G), 'Triangles')"
   ]
  },
  {
   "cell_type": "markdown",
   "id": "59ff2d2c",
   "metadata": {},
   "source": [
    "## Clustering Coefficient"
   ]
  },
  {
   "cell_type": "code",
   "execution_count": null,
   "id": "1616e037",
   "metadata": {},
   "outputs": [],
   "source": [
    "nx.clustering(G)"
   ]
  },
  {
   "cell_type": "code",
   "execution_count": null,
   "id": "d5f8c08e",
   "metadata": {},
   "outputs": [],
   "source": [
    "nx.clustering(G, 0)"
   ]
  },
  {
   "cell_type": "code",
   "execution_count": null,
   "id": "62e18d44",
   "metadata": {},
   "outputs": [],
   "source": [
    "draw(G, pos, nx.clustering(G), 'Clustering Coefficient')"
   ]
  },
  {
   "cell_type": "markdown",
   "id": "38399979",
   "metadata": {},
   "source": [
    "## Bridges\n",
    "\n",
    "如果某个连接断掉，会使连通域个数增加，则该连接是bridge。\n",
    "\n",
    "bridge连接不属于环的一部分。"
   ]
  },
  {
   "cell_type": "code",
   "execution_count": null,
   "id": "6e95b69f",
   "metadata": {},
   "outputs": [],
   "source": [
    "pos = nx.spring_layout(G, seed=675)\n",
    "nx.draw(G, pos, with_labels=True)"
   ]
  },
  {
   "cell_type": "code",
   "execution_count": null,
   "id": "ec78bf18",
   "metadata": {},
   "outputs": [],
   "source": [
    "list(nx.bridges(G))"
   ]
  },
  {
   "cell_type": "markdown",
   "id": "c4fee8f9",
   "metadata": {},
   "source": [
    "## Common Neighbors 和 Jaccard Coefficient"
   ]
  },
  {
   "cell_type": "code",
   "execution_count": null,
   "id": "fb8cae6a",
   "metadata": {},
   "outputs": [],
   "source": [
    "pos = nx.spring_layout(G, seed=675)\n",
    "nx.draw(G, pos, with_labels=True)"
   ]
  },
  {
   "cell_type": "code",
   "execution_count": null,
   "id": "f7372cad",
   "metadata": {},
   "outputs": [],
   "source": [
    "sorted(nx.common_neighbors(G, 0, 4))"
   ]
  },
  {
   "cell_type": "code",
   "execution_count": null,
   "id": "8348aa6a",
   "metadata": {},
   "outputs": [],
   "source": [
    "preds = nx.jaccard_coefficient(G, [(0, 1), (2, 3)])\n",
    "for u, v, p in preds:\n",
    "    print(f\"({u}, {v}) -> {p:.8f}\")"
   ]
  },
  {
   "cell_type": "code",
   "execution_count": null,
   "id": "0034186e",
   "metadata": {},
   "outputs": [],
   "source": [
    "for u, v, p in nx.adamic_adar_index(G, [(0, 1), (2, 3)]):\n",
    "    print(f\"({u}, {v}) -> {p:.8f}\")"
   ]
  },
  {
   "cell_type": "markdown",
   "id": "072984eb",
   "metadata": {},
   "source": [
    "## Katz Index\n",
    "\n",
    "节点u到节点v，路径为k的路径个数。"
   ]
  },
  {
   "cell_type": "code",
   "execution_count": null,
   "id": "18e380ec",
   "metadata": {},
   "outputs": [],
   "source": [
    "import networkx as nx\n",
    "import numpy as np\n",
    "from numpy.linalg import inv\n",
    "G = nx.karate_club_graph()"
   ]
  },
  {
   "cell_type": "code",
   "execution_count": null,
   "id": "f4828acb",
   "metadata": {},
   "outputs": [],
   "source": [
    "len(G.nodes)"
   ]
  },
  {
   "cell_type": "code",
   "execution_count": null,
   "id": "30ba369a",
   "metadata": {},
   "outputs": [],
   "source": [
    "# 计算主特征向量\n",
    "L = nx.normalized_laplacian_matrix(G)\n",
    "e = np.linalg.eigvals(L.A)\n",
    "print('最大特征值', max(e))\n",
    "\n",
    "# 折减系数\n",
    "beta = 1/max(e)\n",
    "\n",
    "# 创建单位矩阵\n",
    "I = np.identity(len(G.nodes))\n",
    "\n",
    "# 计算 Katz Index\n",
    "S = inv(I - nx.to_numpy_array(G)*beta) - I"
   ]
  },
  {
   "cell_type": "code",
   "execution_count": null,
   "id": "bed4ec80",
   "metadata": {},
   "outputs": [],
   "source": [
    "S.shape"
   ]
  },
  {
   "cell_type": "code",
   "execution_count": null,
   "id": "a3fbf12c",
   "metadata": {},
   "outputs": [],
   "source": [
    "S"
   ]
  },
  {
   "cell_type": "markdown",
   "id": "cd51e9d2",
   "metadata": {},
   "source": [
    "# 计算全图Graphlet个数"
   ]
  },
  {
   "cell_type": "markdown",
   "id": "ac20d391",
   "metadata": {},
   "source": [
    "## 导入全图"
   ]
  },
  {
   "cell_type": "code",
   "execution_count": null,
   "id": "f3c00c75",
   "metadata": {},
   "outputs": [],
   "source": [
    "G = nx.karate_club_graph()"
   ]
  },
  {
   "cell_type": "code",
   "execution_count": null,
   "id": "ff5fa869",
   "metadata": {},
   "outputs": [],
   "source": [
    "plt.figure(figsize=(10,8))\n",
    "pos = nx.spring_layout(G, seed=123)\n",
    "nx.draw(G, pos, with_labels=True)"
   ]
  },
  {
   "cell_type": "markdown",
   "id": "f842b17a",
   "metadata": {},
   "source": [
    "## 指定Graphlet"
   ]
  },
  {
   "cell_type": "code",
   "execution_count": null,
   "id": "6106333f",
   "metadata": {},
   "outputs": [],
   "source": [
    "target = nx.complete_graph(3)"
   ]
  },
  {
   "cell_type": "code",
   "execution_count": null,
   "id": "f48cb408",
   "metadata": {},
   "outputs": [],
   "source": [
    "nx.draw(target)"
   ]
  },
  {
   "cell_type": "markdown",
   "id": "ce3d8837",
   "metadata": {},
   "source": [
    "## 匹配Graphlet，统计个数"
   ]
  },
  {
   "cell_type": "code",
   "execution_count": null,
   "id": "fdf9d609",
   "metadata": {},
   "outputs": [],
   "source": [
    "import itertools\n",
    "num = 0\n",
    "for sub_nodes in itertools.combinations(G.nodes(), len(target.nodes())):  # 遍历全图中，符合graphlet节点个数的所有节点组合\n",
    "    subg = G.subgraph(sub_nodes)                                          # 从全图中抽取出子图\n",
    "    if nx.is_connected(subg) and nx.is_isomorphic(subg, target):          # 如果子图是完整连通域，并且符合graphlet特征，输出原图节点编号\n",
    "        num += 1\n",
    "        print(subg.edges())"
   ]
  },
  {
   "cell_type": "code",
   "execution_count": null,
   "id": "a71fe8ca",
   "metadata": {},
   "outputs": [],
   "source": [
    "num"
   ]
  },
  {
   "cell_type": "markdown",
   "id": "3ce6d310",
   "metadata": {},
   "source": [
    "# 拉普拉斯矩阵特征值分解"
   ]
  },
  {
   "cell_type": "markdown",
   "id": "9a61c4ca",
   "metadata": {},
   "source": [
    "## 创建图"
   ]
  },
  {
   "cell_type": "code",
   "execution_count": null,
   "id": "fd1285bc",
   "metadata": {},
   "outputs": [],
   "source": [
    "n = 1000  # 节点个数\n",
    "m = 5000  # 连接个数\n",
    "G = nx.gnm_random_graph(n, m, seed=5040)"
   ]
  },
  {
   "cell_type": "markdown",
   "id": "5bfb73ab",
   "metadata": {},
   "source": [
    "## 邻接矩阵（Adjacency Matrix）"
   ]
  },
  {
   "cell_type": "code",
   "execution_count": null,
   "id": "c2473415",
   "metadata": {},
   "outputs": [],
   "source": [
    "A = nx.adjacency_matrix(G)"
   ]
  },
  {
   "cell_type": "code",
   "execution_count": null,
   "id": "8a85d63d",
   "metadata": {},
   "outputs": [],
   "source": [
    "A.shape"
   ]
  },
  {
   "cell_type": "code",
   "execution_count": null,
   "id": "99fd8549",
   "metadata": {},
   "outputs": [],
   "source": [
    "A.todense()"
   ]
  },
  {
   "cell_type": "markdown",
   "id": "aaa4d117",
   "metadata": {},
   "source": [
    "## 拉普拉斯矩阵（Laplacian Matrix）\n",
    "\n",
    "$$\n",
    "L = D - A\n",
    "$$\n",
    "\n",
    "L 为拉普拉斯矩阵（Laplacian Matrix）\n",
    "\n",
    "D 为节点degree对角矩阵\n",
    "\n",
    "A 为邻接矩阵（Adjacency Matrix）"
   ]
  },
  {
   "cell_type": "code",
   "execution_count": null,
   "id": "d66bbc01",
   "metadata": {},
   "outputs": [],
   "source": [
    "L = nx.laplacian_matrix(G)"
   ]
  },
  {
   "cell_type": "code",
   "execution_count": null,
   "id": "bb3ba034",
   "metadata": {},
   "outputs": [],
   "source": [
    "L.shape"
   ]
  },
  {
   "cell_type": "code",
   "execution_count": null,
   "id": "4169727a",
   "metadata": {},
   "outputs": [],
   "source": [
    "# 节点degree对角矩阵\n",
    "D = L + A"
   ]
  },
  {
   "cell_type": "code",
   "execution_count": null,
   "id": "65ad3acd",
   "metadata": {},
   "outputs": [],
   "source": [
    "D.todense()"
   ]
  },
  {
   "cell_type": "code",
   "execution_count": null,
   "id": "35b6d512",
   "metadata": {},
   "outputs": [],
   "source": [
    "# G.degree()"
   ]
  },
  {
   "cell_type": "markdown",
   "id": "29bc3b7c",
   "metadata": {},
   "source": [
    "## 归一化拉普拉斯矩阵（Normalized Laplacian Matrix）\n",
    "\n",
    "$$\n",
    "L_n = D^{-\\frac{1}{2}}LD^{-\\frac{1}{2}}\n",
    "$$"
   ]
  },
  {
   "cell_type": "code",
   "execution_count": null,
   "id": "faf2be86",
   "metadata": {},
   "outputs": [],
   "source": [
    "L_n = nx.normalized_laplacian_matrix(G)"
   ]
  },
  {
   "cell_type": "code",
   "execution_count": null,
   "id": "17de74ae",
   "metadata": {},
   "outputs": [],
   "source": [
    "L_n.shape"
   ]
  },
  {
   "cell_type": "code",
   "execution_count": null,
   "id": "35a960f1",
   "metadata": {},
   "outputs": [],
   "source": [
    "L_n.todense()"
   ]
  },
  {
   "cell_type": "code",
   "execution_count": null,
   "id": "e2c579b6",
   "metadata": {},
   "outputs": [],
   "source": [
    "plt.imshow(L_n.todense())\n",
    "plt.show()"
   ]
  },
  {
   "cell_type": "code",
   "execution_count": null,
   "id": "4ecc304e",
   "metadata": {},
   "outputs": [],
   "source": [
    "type(L_n)"
   ]
  },
  {
   "cell_type": "markdown",
   "id": "cf576981",
   "metadata": {},
   "source": [
    "## 特征值分解"
   ]
  },
  {
   "cell_type": "code",
   "execution_count": null,
   "id": "e857365c",
   "metadata": {},
   "outputs": [],
   "source": [
    "e = np.linalg.eigvals(L_n.A)"
   ]
  },
  {
   "cell_type": "code",
   "execution_count": null,
   "id": "261761ce",
   "metadata": {},
   "outputs": [],
   "source": [
    "e"
   ]
  },
  {
   "cell_type": "code",
   "execution_count": null,
   "id": "fd22e914",
   "metadata": {},
   "outputs": [],
   "source": [
    "# 最大特征值\n",
    "max(e)"
   ]
  },
  {
   "cell_type": "code",
   "execution_count": null,
   "id": "e2ba64bf",
   "metadata": {},
   "outputs": [],
   "source": [
    "# 最小特征值\n",
    "min(e)"
   ]
  },
  {
   "cell_type": "markdown",
   "id": "df61be58",
   "metadata": {},
   "source": [
    "## 特征值分布直方图"
   ]
  },
  {
   "cell_type": "code",
   "execution_count": null,
   "id": "980179e8",
   "metadata": {},
   "outputs": [],
   "source": [
    "plt.figure(figsize=(12,8))\n",
    "\n",
    "plt.hist(e, bins=100)\n",
    "plt.xlim(0, 2)  # eigenvalues between 0 and 2\n",
    "\n",
    "plt.title('Eigenvalue Histogram', fontsize=20)\n",
    "plt.ylabel('Frequency', fontsize=25)\n",
    "plt.xlabel('Eigenvalue', fontsize=25)\n",
    "plt.tick_params(labelsize=20) # 设置坐标文字大小\n",
    "plt.show()"
   ]
  }
 ],
 "metadata": {
  "kernelspec": {
   "display_name": "Python 3 (ipykernel)",
   "language": "python",
   "name": "python3"
  },
  "language_info": {
   "codemirror_mode": {
    "name": "ipython",
    "version": 3
   },
   "file_extension": ".py",
   "mimetype": "text/x-python",
   "name": "python",
   "nbconvert_exporter": "python",
   "pygments_lexer": "ipython3",
   "version": "3.7.11"
  }
 },
 "nbformat": 4,
 "nbformat_minor": 5
}
