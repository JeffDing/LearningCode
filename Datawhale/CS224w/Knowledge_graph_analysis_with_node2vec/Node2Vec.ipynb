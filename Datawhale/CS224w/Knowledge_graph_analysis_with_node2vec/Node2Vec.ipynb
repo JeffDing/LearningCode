{
 "cells": [
  {
   "cell_type": "code",
   "execution_count": 1,
   "id": "1ffc4eeb",
   "metadata": {},
   "outputs": [
    {
     "name": "stdout",
     "output_type": "stream",
     "text": [
      "Looking in indexes: https://pypi.tuna.tsinghua.edu.cn/simple\n",
      "Requirement already satisfied: networkx in /opt/conda/lib/python3.7/site-packages (2.6.3)\n",
      "Requirement already satisfied: gensim in /opt/conda/lib/python3.7/site-packages (4.2.0)\n",
      "Requirement already satisfied: pandas in /opt/conda/lib/python3.7/site-packages (1.3.5)\n",
      "Requirement already satisfied: numpy in /opt/conda/lib/python3.7/site-packages (1.21.2)\n",
      "Requirement already satisfied: tqdm in /opt/conda/lib/python3.7/site-packages (4.61.2)\n",
      "Requirement already satisfied: scikit-learn in /opt/conda/lib/python3.7/site-packages (1.0.2)\n",
      "Requirement already satisfied: matplotlib in /opt/conda/lib/python3.7/site-packages (3.5.3)\n",
      "Requirement already satisfied: smart-open>=1.8.1 in /opt/conda/lib/python3.7/site-packages (from gensim) (6.3.0)\n",
      "Requirement already satisfied: scipy>=0.18.1 in /opt/conda/lib/python3.7/site-packages (from gensim) (1.7.3)\n",
      "Requirement already satisfied: fonttools>=4.22.0 in /opt/conda/lib/python3.7/site-packages (from matplotlib) (4.38.0)\n",
      "Requirement already satisfied: cycler>=0.10 in /opt/conda/lib/python3.7/site-packages (from matplotlib) (0.11.0)\n",
      "Requirement already satisfied: python-dateutil>=2.7 in /opt/conda/lib/python3.7/site-packages (from matplotlib) (2.8.2)\n",
      "Requirement already satisfied: pillow>=6.2.0 in /opt/conda/lib/python3.7/site-packages (from matplotlib) (8.4.0)\n",
      "Requirement already satisfied: pyparsing>=2.2.1 in /opt/conda/lib/python3.7/site-packages (from matplotlib) (3.0.8)\n",
      "Requirement already satisfied: kiwisolver>=1.0.1 in /opt/conda/lib/python3.7/site-packages (from matplotlib) (1.4.4)\n",
      "Requirement already satisfied: packaging>=20.0 in /opt/conda/lib/python3.7/site-packages (from matplotlib) (21.3)\n",
      "Requirement already satisfied: typing-extensions in /opt/conda/lib/python3.7/site-packages (from kiwisolver>=1.0.1->matplotlib) (3.10.0.2)\n",
      "Requirement already satisfied: six>=1.5 in /opt/conda/lib/python3.7/site-packages (from python-dateutil>=2.7->matplotlib) (1.16.0)\n",
      "Requirement already satisfied: pytz>=2017.3 in /opt/conda/lib/python3.7/site-packages (from pandas) (2021.3)\n",
      "Requirement already satisfied: threadpoolctl>=2.0.0 in /opt/conda/lib/python3.7/site-packages (from scikit-learn) (3.1.0)\n",
      "Requirement already satisfied: joblib>=0.11 in /opt/conda/lib/python3.7/site-packages (from scikit-learn) (1.2.0)\n"
     ]
    }
   ],
   "source": [
    "!pip install networkx gensim pandas numpy tqdm scikit-learn matplotlib"
   ]
  },
  {
   "cell_type": "code",
   "execution_count": 2,
   "id": "f57a873c",
   "metadata": {},
   "outputs": [],
   "source": [
    "import os\n",
    "import numpy as np\n",
    "import pandas as pd\n",
    "import networkx as nx\n",
    "from collections import Counter"
   ]
  },
  {
   "cell_type": "code",
   "execution_count": 3,
   "id": "3df0aa43",
   "metadata": {},
   "outputs": [
    {
     "data": {
      "text/plain": [
       "['emails.csv',\n",
       " 'question_scores.csv',\n",
       " 'answer_scores.csv',\n",
       " 'tag_users.csv',\n",
       " 'group_memberships.csv',\n",
       " 'tag_questions.csv',\n",
       " 'students.csv',\n",
       " 'comments.csv',\n",
       " 'tags.csv',\n",
       " 'questions.csv',\n",
       " 'school_memberships.csv',\n",
       " 'matches.csv',\n",
       " 'professionals.csv',\n",
       " 'answers.csv',\n",
       " 'groups.csv']"
      ]
     },
     "execution_count": 3,
     "metadata": {},
     "output_type": "execute_result"
    }
   ],
   "source": [
    "#Load data\n",
    "files = os.listdir(\"./dataset\")\n",
    "files"
   ]
  },
  {
   "cell_type": "code",
   "execution_count": 4,
   "id": "dccecdbe",
   "metadata": {},
   "outputs": [
    {
     "name": "stdout",
     "output_type": "stream",
     "text": [
      "emails\n",
      "(1850101, 4)\n",
      "question_scores\n",
      "(23928, 2)\n",
      "answer_scores\n",
      "(51138, 2)\n",
      "tag_users\n",
      "(136663, 2)\n",
      "group_memberships\n",
      "(1038, 2)\n",
      "tag_questions\n",
      "(76553, 2)\n",
      "students\n",
      "(30971, 3)\n",
      "comments\n",
      "(14966, 5)\n",
      "tags\n",
      "(16269, 2)\n",
      "questions\n",
      "(23931, 5)\n",
      "school_memberships\n",
      "(5638, 2)\n",
      "matches\n",
      "(4316275, 2)\n",
      "professionals\n",
      "(28152, 5)\n",
      "answers\n",
      "(51123, 5)\n",
      "groups\n",
      "(49, 2)\n"
     ]
    }
   ],
   "source": [
    "data_parts = {}\n",
    "for file_name in files:\n",
    "    file_id = file_name.split(\".\")[0]\n",
    "    data_parts[file_id] = pd.read_csv(\"./dataset/\" + file_name)\n",
    "    print(file_id)\n",
    "    print(data_parts[file_id].shape)"
   ]
  },
  {
   "cell_type": "code",
   "execution_count": 5,
   "id": "0935b9a9",
   "metadata": {},
   "outputs": [],
   "source": [
    "#Build knowledge graph from CareerVillage data\n",
    "def add_nodes(G, df, col, type_name):\n",
    "    \"\"\"Add entities to G from the 'col' column of the 'df' DataFrame. The new nodes are annotated with 'type_name' label.\"\"\"\n",
    "    nodes = list(df[~df[col].isnull()][col].unique())\n",
    "    G.add_nodes_from([(n,dict(type=type_name)) for n in nodes])\n",
    "    print(\"Nodes (%s,%s) were added\" % (col, type_name))\n",
    "    \n",
    "def add_links(G, df, col1, col2, type_name):\n",
    "    \"\"\"Add links to G from the 'df' DataFrame. The new edges are annotated with 'type_name' label.\"\"\"\n",
    "    df_tmp = df[(~df[col1].isnull()) & (~df[col2].isnull())]\n",
    "    links = list(zip(df_tmp[col1],df_tmp[col2]))\n",
    "    G.add_edges_from([(src, trg, dict(type=type_name)) for src, trg in links])\n",
    "    print(\"Edges (%s->%s,%s) were added\" % (col1, col2, type_name))"
   ]
  },
  {
   "cell_type": "code",
   "execution_count": 6,
   "id": "249de54c",
   "metadata": {},
   "outputs": [],
   "source": [
    "G = nx.DiGraph()"
   ]
  },
  {
   "cell_type": "code",
   "execution_count": 7,
   "id": "52f9f8d8",
   "metadata": {},
   "outputs": [
    {
     "name": "stdout",
     "output_type": "stream",
     "text": [
      "Nodes (answers_id,answer) were added\n",
      "Nodes (comments_id,comment) were added\n",
      "Nodes (groups_id,group) were added\n",
      "Nodes (groups_group_type,group_type) were added\n",
      "Nodes (professionals_id,professional) were added\n",
      "Nodes (professionals_industry,industry) were added\n",
      "Nodes (questions_id,question) were added\n",
      "Nodes (school_memberships_school_id,school) were added\n",
      "Nodes (students_id,student) were added\n",
      "Nodes (tags_tag_id,tag) were added\n"
     ]
    }
   ],
   "source": [
    "add_nodes(G, data_parts[\"answers\"], \"answers_id\", \"answer\")\n",
    "add_nodes(G, data_parts[\"comments\"], \"comments_id\", \"comment\")\n",
    "add_nodes(G, data_parts[\"groups\"], \"groups_id\", \"group\")\n",
    "add_nodes(G, data_parts[\"groups\"], \"groups_group_type\", \"group_type\")\n",
    "add_nodes(G, data_parts[\"professionals\"], \"professionals_id\", \"professional\")\n",
    "add_nodes(G, data_parts[\"professionals\"], \"professionals_industry\", \"industry\")\n",
    "add_nodes(G, data_parts[\"questions\"], \"questions_id\", \"question\")\n",
    "add_nodes(G, data_parts[\"school_memberships\"], \"school_memberships_school_id\", \"school\")\n",
    "add_nodes(G, data_parts[\"students\"], \"students_id\", \"student\")\n",
    "add_nodes(G, data_parts[\"tags\"], \"tags_tag_id\", \"tag\")"
   ]
  },
  {
   "cell_type": "code",
   "execution_count": 8,
   "id": "323654d3",
   "metadata": {},
   "outputs": [
    {
     "name": "stdout",
     "output_type": "stream",
     "text": [
      "Edges (answers_id->answers_question_id,question) were added\n",
      "Edges (answers_id->answers_author_id,author) were added\n",
      "Edges (comments_id->comments_parent_content_id,parent_content) were added\n",
      "Edges (comments_id->comments_author_id,author) were added\n",
      "Edges (group_memberships_user_id->group_memberships_group_id,member) were added\n",
      "Edges (groups_id->groups_group_type,type) were added\n",
      "Edges (professionals_id->professionals_industry,type) were added\n",
      "Edges (questions_id->questions_author_id,author) were added\n",
      "Edges (school_memberships_user_id->school_memberships_school_id,member) were added\n",
      "Edges (tag_questions_question_id->tag_questions_tag_id,tag) were added\n",
      "Edges (tag_users_user_id->tag_users_tag_id,follow) were added\n"
     ]
    }
   ],
   "source": [
    "add_links(G, data_parts[\"answers\"], \"answers_id\", \"answers_question_id\", \"question\")\n",
    "add_links(G, data_parts[\"answers\"], \"answers_id\", \"answers_author_id\", \"author\")\n",
    "add_links(G, data_parts[\"comments\"], \"comments_id\", \"comments_parent_content_id\", \"parent_content\")\n",
    "add_links(G, data_parts[\"comments\"], \"comments_id\", \"comments_author_id\", \"author\")\n",
    "add_links(G, data_parts[\"group_memberships\"], \"group_memberships_user_id\", \"group_memberships_group_id\", \"member\")\n",
    "add_links(G, data_parts[\"groups\"], \"groups_id\", \"groups_group_type\", \"type\")\n",
    "add_links(G, data_parts[\"professionals\"], \"professionals_id\", \"professionals_industry\", \"type\")\n",
    "add_links(G, data_parts[\"questions\"], \"questions_id\", \"questions_author_id\", \"author\")\n",
    "add_links(G, data_parts[\"school_memberships\"], \"school_memberships_user_id\", \"school_memberships_school_id\", \"member\")\n",
    "add_links(G, data_parts[\"tag_questions\"], \"tag_questions_question_id\", \"tag_questions_tag_id\", \"tag\")\n",
    "add_links(G, data_parts[\"tag_users\"], \"tag_users_user_id\", \"tag_users_tag_id\", \"follow\")"
   ]
  },
  {
   "cell_type": "code",
   "execution_count": 9,
   "id": "891036c1",
   "metadata": {},
   "outputs": [],
   "source": [
    "students = data_parts[\"students\"]\n",
    "profs = data_parts[\"professionals\"]\n",
    "students = students[~students[\"students_location\"].isnull()]\n",
    "profs = profs[~profs[\"professionals_location\"].isnull()]"
   ]
  },
  {
   "cell_type": "code",
   "execution_count": 10,
   "id": "06cb5c64",
   "metadata": {},
   "outputs": [],
   "source": [
    "locs1 = list(students[\"students_location\"])\n",
    "locs2 = list(profs[\"professionals_location\"])\n",
    "locs = [loc.lower() for loc in locs1+locs2]\n",
    "locs_unique = list(set(locs))"
   ]
  },
  {
   "cell_type": "code",
   "execution_count": 11,
   "id": "a31226c9",
   "metadata": {},
   "outputs": [
    {
     "data": {
      "text/plain": [
       "[('new york, new york', 2650),\n",
       " ('bengaluru, karnataka, india', 1284),\n",
       " ('los angeles, california', 1280),\n",
       " ('boston, massachusetts', 1271),\n",
       " ('houston, texas', 1032),\n",
       " ('san francisco, california', 975),\n",
       " ('chicago, illinois', 920),\n",
       " ('california, california', 894),\n",
       " ('greater new york city area', 745),\n",
       " ('atlanta, georgia', 738)]"
      ]
     },
     "execution_count": 11,
     "metadata": {},
     "output_type": "execute_result"
    }
   ],
   "source": [
    "cnt = Counter(locs)\n",
    "cnt.most_common()[:10]"
   ]
  },
  {
   "cell_type": "code",
   "execution_count": 12,
   "id": "7f22fa18",
   "metadata": {},
   "outputs": [],
   "source": [
    "new_edges = []\n",
    "new_nodes = []\n",
    "for loc in locs_unique:\n",
    "    loc_hierarchy = loc.split(\", \")\n",
    "    loc_nodes = [] # due to city name duplicates in the world\n",
    "    k = len(loc_hierarchy)\n",
    "    for i in range(k):\n",
    "        loc_nodes.append('_'.join(loc_hierarchy[i:]))\n",
    "    new_nodes += loc_nodes\n",
    "    loc_links = [(loc_nodes[i],loc_nodes[i+1], dict(type=\"location\"))  for i in range(k-1)]\n",
    "    new_edges += loc_links\n",
    "new_nodes = list(set(new_nodes))\n",
    "new_nodes = [(n, dict(type=\"location\")) for n in new_nodes]"
   ]
  },
  {
   "cell_type": "code",
   "execution_count": 13,
   "id": "2896e053",
   "metadata": {},
   "outputs": [
    {
     "name": "stdout",
     "output_type": "stream",
     "text": [
      "7253 7160\n"
     ]
    }
   ],
   "source": [
    "G.add_nodes_from(new_nodes)\n",
    "G.add_edges_from(new_edges)\n",
    "print(len(new_edges), len(new_nodes))"
   ]
  },
  {
   "cell_type": "code",
   "execution_count": 14,
   "id": "f186736c",
   "metadata": {},
   "outputs": [
    {
     "data": {
      "text/plain": [
       "[('england_united kingdom', 'united kingdom'),\n",
       " ('bradford_united kingdom', 'united kingdom'),\n",
       " ('wales_united kingdom', 'united kingdom'),\n",
       " ('harrow_united kingdom', 'united kingdom'),\n",
       " ('reading_united kingdom', 'united kingdom')]"
      ]
     },
     "execution_count": 14,
     "metadata": {},
     "output_type": "execute_result"
    }
   ],
   "source": [
    "list(G.in_edges(\"united kingdom\"))[:5]"
   ]
  },
  {
   "cell_type": "code",
   "execution_count": 15,
   "id": "3afb2a28",
   "metadata": {},
   "outputs": [
    {
     "data": {
      "text/plain": [
       "[('loughborough_england_united kingdom', 'england_united kingdom'),\n",
       " ('huntingdon_england_united kingdom', 'england_united kingdom'),\n",
       " ('luton_england_united kingdom', 'england_united kingdom'),\n",
       " ('feltham_england_united kingdom', 'england_united kingdom'),\n",
       " ('lancaster_england_united kingdom', 'england_united kingdom')]"
      ]
     },
     "execution_count": 15,
     "metadata": {},
     "output_type": "execute_result"
    }
   ],
   "source": [
    "list(G.in_edges(\"england_united kingdom\"))[:5]\n"
   ]
  },
  {
   "cell_type": "code",
   "execution_count": 16,
   "id": "9dcca282",
   "metadata": {},
   "outputs": [
    {
     "name": "stderr",
     "output_type": "stream",
     "text": [
      "/opt/conda/lib/python3.7/site-packages/ipykernel_launcher.py:1: SettingWithCopyWarning: \n",
      "A value is trying to be set on a copy of a slice from a DataFrame.\n",
      "Try using .loc[row_indexer,col_indexer] = value instead\n",
      "\n",
      "See the caveats in the documentation: https://pandas.pydata.org/pandas-docs/stable/user_guide/indexing.html#returning-a-view-versus-a-copy\n",
      "  \"\"\"Entry point for launching an IPython kernel.\n",
      "/opt/conda/lib/python3.7/site-packages/ipykernel_launcher.py:2: SettingWithCopyWarning: \n",
      "A value is trying to be set on a copy of a slice from a DataFrame.\n",
      "Try using .loc[row_indexer,col_indexer] = value instead\n",
      "\n",
      "See the caveats in the documentation: https://pandas.pydata.org/pandas-docs/stable/user_guide/indexing.html#returning-a-view-versus-a-copy\n",
      "  \n"
     ]
    }
   ],
   "source": [
    "students[\"students_location\"] = students[\"students_location\"].apply(lambda x: \"_\".join(x.lower().split(\", \")))\n",
    "profs[\"professionals_location\"] = profs[\"professionals_location\"].apply(lambda x: \"_\".join(x.lower().split(\", \")))"
   ]
  },
  {
   "cell_type": "code",
   "execution_count": 17,
   "id": "35ce3eb5",
   "metadata": {},
   "outputs": [
    {
     "name": "stdout",
     "output_type": "stream",
     "text": [
      "Edges (students_id->students_location,location) were added\n",
      "Edges (professionals_id->professionals_location,location) were added\n"
     ]
    }
   ],
   "source": [
    "add_links(G, students, \"students_id\", \"students_location\", \"location\")\n",
    "add_links(G, profs, \"professionals_id\", \"professionals_location\", \"location\")"
   ]
  },
  {
   "cell_type": "code",
   "execution_count": 18,
   "id": "3a6a94ca",
   "metadata": {},
   "outputs": [],
   "source": [
    "def encode_graph(G):\n",
    "    \"\"\"Encode the nodes of the network into integers\"\"\"\n",
    "    nodes = [(n,d.get(\"type\",None)) for n, d in G.nodes(data=True)]\n",
    "    nodes_df = pd.DataFrame(nodes, columns=[\"id\",\"type\"]).reset_index()\n",
    "    node2idx = dict(zip(nodes_df[\"id\"],nodes_df[\"index\"]))\n",
    "    edges = [(node2idx[src], node2idx[trg], d.get(\"type\",None)) for src, trg, d in G.edges(data=True)]\n",
    "    edges_df = pd.DataFrame(edges, columns=[\"src\",\"trg\",\"type\"])\n",
    "    return nodes_df, edges_df"
   ]
  },
  {
   "cell_type": "code",
   "execution_count": 19,
   "id": "3a1d9107",
   "metadata": {},
   "outputs": [
    {
     "name": "stdout",
     "output_type": "stream",
     "text": [
      "177890 461369\n",
      "174181 461369\n"
     ]
    }
   ],
   "source": [
    "print(G.number_of_nodes(), G.number_of_edges())\n",
    "G.remove_nodes_from(list(nx.isolates(G)))\n",
    "print(G.number_of_nodes(), G.number_of_edges())"
   ]
  },
  {
   "cell_type": "code",
   "execution_count": 20,
   "id": "64a8776a",
   "metadata": {},
   "outputs": [
    {
     "data": {
      "text/plain": [
       "(174181, 461369)"
      ]
     },
     "execution_count": 20,
     "metadata": {},
     "output_type": "execute_result"
    }
   ],
   "source": [
    "nodes_df, edges_df = encode_graph(G)\n",
    "len(nodes_df), len(edges_df)"
   ]
  },
  {
   "cell_type": "code",
   "execution_count": 21,
   "id": "902a7e6f",
   "metadata": {},
   "outputs": [
    {
     "name": "stdout",
     "output_type": "stream",
     "text": [
      "   index                                id    type\n",
      "0      0  4e5f01128cae4f6d8fd697cec5dca60c  answer\n",
      "1      1  ada720538c014e9b8a6dceed09385ee3  answer\n",
      "2      2  eaa66ef919bc408ab5296237440e323f  answer\n",
      "3      3  1a6b3749d391486c9e371fbd1e605014  answer\n",
      "4      4  5229c514000446d582050f89ebd4e184  answer\n",
      "answer          51123\n",
      "student         29460\n",
      "professional    27819\n",
      "question        23931\n",
      "comment         14966\n",
      "tag             14404\n",
      "location         7160\n",
      "school           2706\n",
      "industry         2470\n",
      "group              49\n",
      "group_type          7\n",
      "Name: type, dtype: int64\n"
     ]
    }
   ],
   "source": [
    "print(nodes_df.head())\n",
    "print(nodes_df[\"type\"].value_counts())\n",
    "nodes_df.to_csv(\"knowledge_graph_nodes.csv\", index=False)"
   ]
  },
  {
   "cell_type": "code",
   "execution_count": 22,
   "id": "f175d394",
   "metadata": {},
   "outputs": [
    {
     "name": "stdout",
     "output_type": "stream",
     "text": [
      "   src    trg      type\n",
      "0    0  96434  question\n",
      "1    0  68352    author\n",
      "2    1  96435  question\n",
      "3    1  83417    author\n",
      "4    2  96435  question\n",
      "follow            135907\n",
      "author             90020\n",
      "tag                76553\n",
      "location           60724\n",
      "question           51123\n",
      "type               25625\n",
      "parent_content     14966\n",
      "member              6451\n",
      "Name: type, dtype: int64\n"
     ]
    }
   ],
   "source": [
    "print(edges_df.head())\n",
    "print(edges_df[\"type\"].value_counts())\n",
    "edges_df[[\"src\",\"trg\"]].to_csv(\"knowledge_graph_edges.csv\", index=False, header=False, sep=\" \")"
   ]
  },
  {
   "cell_type": "markdown",
   "id": "f05f6cbd",
   "metadata": {},
   "source": [
    "## Node2Vec"
   ]
  },
  {
   "cell_type": "code",
   "execution_count": 23,
   "id": "43c94300",
   "metadata": {},
   "outputs": [
    {
     "data": {
      "text/plain": [
       "[(0, 96434), (0, 68352), (1, 96435), (1, 83417), (2, 96435)]"
      ]
     },
     "execution_count": 23,
     "metadata": {},
     "output_type": "execute_result"
    }
   ],
   "source": [
    "edge_list = list(zip(edges_df[\"src\"],edges_df[\"trg\"]))\n",
    "edge_list[:5]"
   ]
  },
  {
   "cell_type": "code",
   "execution_count": 24,
   "id": "1faa16a4",
   "metadata": {},
   "outputs": [
    {
     "data": {
      "text/plain": [
       "(174181, 461369)"
      ]
     },
     "execution_count": 24,
     "metadata": {},
     "output_type": "execute_result"
    }
   ],
   "source": [
    "KG = nx.Graph(edge_list)\n",
    "KG.number_of_nodes(), KG.number_of_edges()"
   ]
  },
  {
   "cell_type": "code",
   "execution_count": 25,
   "id": "a0932f8a",
   "metadata": {},
   "outputs": [
    {
     "data": {
      "text/plain": [
       "(173933, 461225)"
      ]
     },
     "execution_count": 25,
     "metadata": {},
     "output_type": "execute_result"
    }
   ],
   "source": [
    "largest_cc = max(nx.connected_components(KG), key=len)\n",
    "KG = nx.subgraph(KG, largest_cc)\n",
    "KG.number_of_nodes(), KG.number_of_edges()"
   ]
  },
  {
   "cell_type": "code",
   "execution_count": null,
   "id": "2448f71c",
   "metadata": {},
   "outputs": [
    {
     "data": {
      "application/json": {
       "ascii": false,
       "bar_format": null,
       "colour": null,
       "elapsed": 0.005552053451538086,
       "initial": 0,
       "n": 0,
       "ncols": null,
       "nrows": null,
       "postfix": null,
       "prefix": "Computing transition probabilities",
       "rate": null,
       "total": 173933,
       "unit": "it",
       "unit_divisor": 1000,
       "unit_scale": false
      },
      "application/vnd.jupyter.widget-view+json": {
       "model_id": "d906d557497743f48828f1aaceb71b34",
       "version_major": 2,
       "version_minor": 0
      },
      "text/plain": [
       "Computing transition probabilities:   0%|          | 0/173933 [00:00<?, ?it/s]"
      ]
     },
     "metadata": {},
     "output_type": "display_data"
    }
   ],
   "source": [
    "%%time\n",
    "from node2vec import Node2Vec\n",
    "n2v_obj = Node2Vec(KG, dimensions=10, walk_length=5, num_walks=10, p=1, q=1, workers=8)"
   ]
  },
  {
   "cell_type": "code",
   "execution_count": 27,
   "id": "80767326",
   "metadata": {},
   "outputs": [
    {
     "ename": "NameError",
     "evalue": "name 'n2v_obj' is not defined",
     "output_type": "error",
     "traceback": [
      "\u001b[0;31m---------------------------------------------------------------------------\u001b[0m",
      "\u001b[0;31mNameError\u001b[0m                                 Traceback (most recent call last)",
      "\u001b[0;32m<timed exec>\u001b[0m in \u001b[0;36m<module>\u001b[0;34m\u001b[0m\n",
      "\u001b[0;31mNameError\u001b[0m: name 'n2v_obj' is not defined"
     ]
    }
   ],
   "source": [
    "%%time\n",
    "n2v_model = n2v_obj.fit(window=3, min_count=1, batch_words=4)"
   ]
  },
  {
   "cell_type": "code",
   "execution_count": 28,
   "id": "b28ca618",
   "metadata": {},
   "outputs": [],
   "source": [
    "%matplotlib inline\n",
    "import matplotlib.pyplot as plt\n",
    "from sklearn.manifold import TSNE\n",
    "\n",
    "def get_embeddings(model, nodes):\n",
    "    \"\"\"Extract representations from the node2vec model\"\"\"\n",
    "    embeddings = [list(model.wv.get_vector(n)) for n in nodes]\n",
    "    embeddings = np.array(embeddings)\n",
    "    print(embeddings.shape)\n",
    "    return embeddings\n",
    "\n",
    "def dim_reduction(embeddings, labels, frac=None, tsne_obj=TSNE(n_components=2)):\n",
    "    \"\"\"Dimensionality reduction with t-SNE. Sampling random instances is supported.\"\"\"\n",
    "    N = len(embeddings)\n",
    "    print(N)\n",
    "    if frac != None:\n",
    "        idx = np.random.randint(N, size=int(N*frac))\n",
    "        X = embeddings[idx,:]\n",
    "        X_labels = [labels[i] for i in idx]\n",
    "    else:\n",
    "        X = embeddings\n",
    "        X_labels = labels\n",
    "    X_embedded = tsne_obj.fit_transform(X)\n",
    "    print(\"t-SNE object was trained on %i records!\" % X.shape[0])\n",
    "    print(X_embedded.shape)\n",
    "    return X_embedded, X_labels\n",
    "\n",
    "def visu_embeddings(X_embedded, X_labels=None, colors = ['r','b']):\n",
    "    if X_labels != None:\n",
    "        label_map = {}\n",
    "        for i, l in enumerate(usr_tsne_lab):\n",
    "            if not l in label_map:\n",
    "                label_map[l] = []\n",
    "            label_map[l].append(i)\n",
    "        fig, ax = plt.subplots(figsize=(15,15))\n",
    "        for i, lab in enumerate(label_map.keys()):\n",
    "            print(lab)\n",
    "            idx = label_map[lab]\n",
    "            x = list(X_embedded[idx,0])\n",
    "            y = list(X_embedded[idx,1])\n",
    "            #print(len(x),len(y))\n",
    "            ax.scatter(x, y, c=colors[i], label=lab, alpha=0.5, edgecolors='none')\n",
    "        plt.legend()\n",
    "    else:\n",
    "        plt.figure(figsize=(15,15))\n",
    "        x = list(X_embedded[:,0])\n",
    "        y = list(X_embedded[:,1])\n",
    "        plt.scatter(x, y, alpha=0.5)"
   ]
  },
  {
   "cell_type": "code",
   "execution_count": 29,
   "id": "827b7f18",
   "metadata": {},
   "outputs": [
    {
     "name": "stdout",
     "output_type": "stream",
     "text": [
      "29460 27819\n",
      "29378 27781\n"
     ]
    }
   ],
   "source": [
    "stud_users = list(nodes_df[nodes_df[\"type\"] == \"student\"][\"index\"])\n",
    "prof_users = list(nodes_df[nodes_df[\"type\"] == \"professional\"][\"index\"])\n",
    "print(len(stud_users), len(prof_users))\n",
    "stud_users = list(set(stud_users).intersection(set(KG.nodes())))\n",
    "prof_users = list(set(prof_users).intersection(set(KG.nodes())))\n",
    "print(len(stud_users), len(prof_users))\n",
    "stud_users = [str(item) for item in stud_users]\n",
    "prof_users = [str(item) for item in prof_users]"
   ]
  },
  {
   "cell_type": "code",
   "execution_count": 30,
   "id": "aa15edf2",
   "metadata": {},
   "outputs": [
    {
     "ename": "NameError",
     "evalue": "name 'n2v_model' is not defined",
     "output_type": "error",
     "traceback": [
      "\u001b[0;31m---------------------------------------------------------------------------\u001b[0m",
      "\u001b[0;31mNameError\u001b[0m                                 Traceback (most recent call last)",
      "\u001b[0;32m/tmp/ipykernel_1009/3298707334.py\u001b[0m in \u001b[0;36m<module>\u001b[0;34m\u001b[0m\n\u001b[1;32m      1\u001b[0m \u001b[0musers\u001b[0m \u001b[0;34m=\u001b[0m \u001b[0mstud_users\u001b[0m \u001b[0;34m+\u001b[0m \u001b[0mprof_users\u001b[0m\u001b[0;34m\u001b[0m\u001b[0;34m\u001b[0m\u001b[0m\n\u001b[0;32m----> 2\u001b[0;31m \u001b[0musr_emb\u001b[0m \u001b[0;34m=\u001b[0m \u001b[0mget_embeddings\u001b[0m\u001b[0;34m(\u001b[0m\u001b[0mn2v_model\u001b[0m\u001b[0;34m,\u001b[0m \u001b[0musers\u001b[0m\u001b[0;34m)\u001b[0m\u001b[0;34m\u001b[0m\u001b[0;34m\u001b[0m\u001b[0m\n\u001b[0m\u001b[1;32m      3\u001b[0m \u001b[0musr_labs\u001b[0m \u001b[0;34m=\u001b[0m \u001b[0;34m[\u001b[0m\u001b[0;34m'student'\u001b[0m\u001b[0;34m]\u001b[0m \u001b[0;34m*\u001b[0m \u001b[0mlen\u001b[0m\u001b[0;34m(\u001b[0m\u001b[0mstud_users\u001b[0m\u001b[0;34m)\u001b[0m \u001b[0;34m+\u001b[0m  \u001b[0;34m[\u001b[0m\u001b[0;34m'professional'\u001b[0m\u001b[0;34m]\u001b[0m \u001b[0;34m*\u001b[0m \u001b[0mlen\u001b[0m\u001b[0;34m(\u001b[0m\u001b[0mprof_users\u001b[0m\u001b[0;34m)\u001b[0m\u001b[0;34m\u001b[0m\u001b[0;34m\u001b[0m\u001b[0m\n",
      "\u001b[0;31mNameError\u001b[0m: name 'n2v_model' is not defined"
     ]
    }
   ],
   "source": [
    "users = stud_users + prof_users\n",
    "usr_emb = get_embeddings(n2v_model, users)\n",
    "usr_labs = ['student'] * len(stud_users) +  ['professional'] * len(prof_users)"
   ]
  },
  {
   "cell_type": "code",
   "execution_count": null,
   "id": "bedda4f1",
   "metadata": {},
   "outputs": [],
   "source": [
    "%%time\n",
    "usr_tsne_emb, usr_tsne_lab = dim_reduction(usr_emb, usr_labs, frac=0.5)"
   ]
  },
  {
   "cell_type": "code",
   "execution_count": null,
   "id": "5d618e59",
   "metadata": {},
   "outputs": [],
   "source": [
    "visu_embeddings(usr_tsne_emb, usr_tsne_lab)\n"
   ]
  },
  {
   "cell_type": "code",
   "execution_count": null,
   "id": "48d3bfb7",
   "metadata": {},
   "outputs": [],
   "source": []
  }
 ],
 "metadata": {
  "kernelspec": {
   "display_name": "Python 3 (ipykernel)",
   "language": "python",
   "name": "python3"
  },
  "language_info": {
   "codemirror_mode": {
    "name": "ipython",
    "version": 3
   },
   "file_extension": ".py",
   "mimetype": "text/x-python",
   "name": "python",
   "nbconvert_exporter": "python",
   "pygments_lexer": "ipython3",
   "version": "3.7.11"
  }
 },
 "nbformat": 4,
 "nbformat_minor": 5
}
