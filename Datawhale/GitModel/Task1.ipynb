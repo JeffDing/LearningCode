{
 "cells": [
  {
   "cell_type": "code",
   "execution_count": 1,
   "id": "fb11203e-9a5a-4c2c-8f4e-8c550c274b52",
   "metadata": {},
   "outputs": [
    {
     "data": {
      "text/plain": [
       "-1250*(-2*n + 10000)*exp(-(n - 5000)**2)"
      ]
     },
     "execution_count": 1,
     "metadata": {},
     "output_type": "execute_result"
    }
   ],
   "source": [
    "from sympy import *\n",
    "\n",
    "n = symbols('n')\n",
    "y = 1250*(2-exp(-(n-5000)**2))\n",
    "\n",
    "func1 = diff(y,n) # 求导数\n",
    "func1"
   ]
  },
  {
   "cell_type": "code",
   "execution_count": 2,
   "id": "5f4a73ba-5ec0-4ee8-9211-7c8e4c48f0ff",
   "metadata": {},
   "outputs": [
    {
     "name": "stdout",
     "output_type": "stream",
     "text": [
      "该函数驻点为 [5000]\n"
     ]
    }
   ],
   "source": [
    "stag = solve(diff(y,n),n)\n",
    "print(\"该函数驻点为\",stag) # 计算驻点"
   ]
  },
  {
   "cell_type": "code",
   "execution_count": 3,
   "id": "4e7ae6b5-3b11-44e7-9ad4-e8c98722ad5c",
   "metadata": {},
   "outputs": [
    {
     "data": {
      "text/plain": [
       "2500*(-2*(n - 5000)**2 + 1)*exp(-(n - 5000)**2)"
      ]
     },
     "execution_count": 3,
     "metadata": {},
     "output_type": "execute_result"
    }
   ],
   "source": [
    "# 计算二阶导数\n",
    "func2 = diff(y, n, 2) # 求导数\n",
    "func2"
   ]
  },
  {
   "cell_type": "code",
   "execution_count": null,
   "id": "ebc75d8f-e5a9-48a7-8f14-ad096395071d",
   "metadata": {},
   "outputs": [],
   "source": [
    "# 计算驻点的二阶导数值，验证正负\n",
    "print(func2.evalf(subs = {n:5000}))\n",
    "func2.evalf(subs = {n:5000}) > 0"
   ]
  },
  {
   "cell_type": "code",
   "execution_count": 4,
   "id": "4b4c44ba-cd33-4663-8b3e-d0ec586d0f57",
   "metadata": {},
   "outputs": [
    {
     "data": {
      "text/plain": [
       "1250.00000000000"
      ]
     },
     "execution_count": 4,
     "metadata": {},
     "output_type": "execute_result"
    }
   ],
   "source": [
    "# 函数的极小值\n",
    "y.evalf(subs = {n:5000})"
   ]
  },
  {
   "cell_type": "markdown",
   "id": "51e9bcc1-40d8-41d6-bd1b-6bfef4e182f0",
   "metadata": {},
   "source": [
    "### 使用scipy求解多元函数的极值"
   ]
  },
  {
   "cell_type": "code",
   "execution_count": 5,
   "id": "63438dbf-89e1-453c-9a91-ac14e30b4d6d",
   "metadata": {},
   "outputs": [],
   "source": [
    "import scipy.optimize as opt\n",
    "from scipy import fmin\n",
    "import numpy as np"
   ]
  },
  {
   "cell_type": "code",
   "execution_count": 6,
   "id": "2aeedd15-7e78-4395-a94c-064215bbdaa4",
   "metadata": {},
   "outputs": [
    {
     "data": {
      "text/plain": [
       "      fun: 0.126003183161215\n",
       " hess_inv: <3x3 LbfgsInvHessProduct with dtype=float64>\n",
       "      jac: array([ 6.23989749e-04,  3.71169762e-04, -8.03801470e-06])\n",
       "  message: b'CONVERGENCE: NORM_OF_PROJECTED_GRADIENT_<=_PGTOL'\n",
       "     nfev: 64\n",
       "      nit: 15\n",
       "   status: 0\n",
       "  success: True\n",
       "        x: array([  1.        ,   1.        , 123.60336739])"
      ]
     },
     "execution_count": 6,
     "metadata": {},
     "output_type": "execute_result"
    }
   ],
   "source": [
    "def func0(cost, x, a):\n",
    "    return cost*x*(2 - exp(-(x - a)**2))\n",
    "func = lambda x: (2000*x[0] + 3000*x[1] + 4500*x[2]) / (func0(750, x[0], 6000) + func0(1250, x[1], 5000) + func0(2000, x[2], 3000)) - 1 \n",
    "bnds = ((1, 10000), (1, 10000), (1, 10000))\n",
    "res = opt.minimize(fun=func, x0=np.array([2, 1, 1]), bounds=bnds)\n",
    "res"
   ]
  },
  {
   "cell_type": "code",
   "execution_count": 7,
   "id": "d168b1f9-f11e-41fc-bc3a-f2cf22ca64e2",
   "metadata": {},
   "outputs": [
    {
     "data": {
      "text/plain": [
       "3463.605900582747"
      ]
     },
     "execution_count": 7,
     "metadata": {},
     "output_type": "execute_result"
    }
   ],
   "source": [
    "from scipy import integrate # 已知函数表达式积分\n",
    "from scipy import pi\n",
    "def f(h):\n",
    "    '''\n",
    "    定义函数表达式.\n",
    "    '''\n",
    "    return 88.2 * pi * (5 - h)\n",
    "v, err = integrate.quad(f, 0, 5) # 被积函数与积分区间\n",
    "v"
   ]
  },
  {
   "cell_type": "code",
   "execution_count": 8,
   "id": "fb04ad9b-3fe6-47e5-a5b0-20c74b4f4d7e",
   "metadata": {},
   "outputs": [
    {
     "data": {
      "text/plain": [
       "98635.09908278256"
      ]
     },
     "execution_count": 8,
     "metadata": {},
     "output_type": "execute_result"
    }
   ],
   "source": [
    "# 第一型曲线积分\n",
    "from scipy import sinh, cosh, sqrt\n",
    "def f(x):\n",
    "    index1 = (2 - 3 * cosh(x/300) - 0.1 * ((x/50)**2))\n",
    "    return (1 + 1.5 ** index1) * sqrt(100 + (sinh(x/300))**2)\n",
    "\n",
    "v, err = integrate.quad(f, -300, 300)\n",
    "v * 11.79"
   ]
  },
  {
   "cell_type": "markdown",
   "id": "9b9e5fba-50f1-4278-adc2-24aceb98712a",
   "metadata": {},
   "source": [
    "## 实战项目——人口增长问题"
   ]
  },
  {
   "cell_type": "markdown",
   "id": "8e942867-c689-4d81-b2dc-e3908627aeda",
   "metadata": {},
   "source": [
    "参考[【Python学习】基于pytorch和pysimplegui实现中国人口预测算法部署\n",
    "](https://blog.csdn.net/m0_37201243/article/details/103368772)"
   ]
  },
  {
   "cell_type": "code",
   "execution_count": 1,
   "id": "645850b4-9395-462a-b794-ca026c91f1a6",
   "metadata": {},
   "outputs": [
    {
     "name": "stdout",
     "output_type": "stream",
     "text": [
      "Requirement already satisfied: pysimplegui in /home/ma-user/anaconda3/envs/Pytorch-1.0.0/lib/python3.6/site-packages\n",
      "\u001b[33mYou are using pip version 9.0.1, however version 22.1.2 is available.\n",
      "You should consider upgrading via the 'pip install --upgrade pip' command.\u001b[0m\n"
     ]
    }
   ],
   "source": [
    "!pip install pysimplegui"
   ]
  },
  {
   "cell_type": "code",
   "execution_count": 15,
   "id": "30bf27e0-331b-45d1-ac3e-dbe79942ea95",
   "metadata": {},
   "outputs": [],
   "source": [
    "# 导入相应包\n",
    "import torch\n",
    "import numpy as np\n",
    "import torch.nn.functional as F\n",
    "import matplotlib.pyplot as plt\n",
    "%matplotlib inline"
   ]
  },
  {
   "cell_type": "code",
   "execution_count": 16,
   "id": "6d3533b7-6e4e-4dc4-8d15-e8aa6ca69b90",
   "metadata": {},
   "outputs": [
    {
     "name": "stderr",
     "output_type": "stream",
     "text": [
      "/home/ma-user/anaconda3/envs/Pytorch-1.0.0/lib/python3.6/site-packages/ipykernel/__main__.py:2: UserWarning: torch.range is deprecated in favor of torch.arange and will be removed in 0.5. Note that arange generates values in [start; end), not [start; end].\n",
      "  from ipykernel import kernelapp as app\n"
     ]
    },
    {
     "data": {
      "image/png": "[encoded data removed]",
      "text/plain": [
       "<Figure size 432x288 with 1 Axes>"
      ]
     },
     "metadata": {},
     "output_type": "display_data"
    }
   ],
   "source": [
    "# 获取数据\n",
    "year = torch.unsqueeze(torch.range(start=1950, end=2020, step=1, out=None), dim=1) \n",
    "year = year - 1949  # year-1949\n",
    "cp = torch.unsqueeze(torch.tensor([3.31 ,3.33 ,3.35 ,3.37 ,3.38 ,3.40 ,3.42 ,3.44 ,3.46 ,3.48 ,3.49 ,3.51 ,\n",
    "                                   3.53 ,3.55 ,3.57 ,3.58 ,3.60 ,3.61 ,3.63 ,3.64 ,3.66 ,3.67 ,3.69 ,3.70 ,\n",
    "                                   3.71 ,3.72 ,3.73 ,3.75 ,3.76 ,3.77 ,3.78 ,3.79 ,3.80 ,3.81 ,3.82 ,3.83 ,\n",
    "                                   3.85 ,3.86 ,3.87 ,3.88 ,3.89 ,3.90 ,3.91 ,3.93 ,3.94 ,3.95 ,3.96 ,3.97 ,\n",
    "                                   3.98 ,3.99 ,4.00 ,4.02 ,4.03 ,4.04 ,4.05 ,4.06 ,4.07 ,4.07 ,4.08 ,4.09 ,4.10 ,\n",
    "                                   4.11 ,4.12 ,4.12 ,4.13 ,4.14 ,4.15 ,4.15 ,4.16 ,4.17 ,4.17 ]), dim=1)   # 单位：千\n",
    "plt.scatter(year.data.numpy(), cp.data.numpy())\n",
    "plt.show()\n"
   ]
  },
  {
   "cell_type": "code",
   "execution_count": 17,
   "id": "63365fb6-10e5-424b-8a52-2bfb099ddc33",
   "metadata": {},
   "outputs": [],
   "source": [
    "torch.manual_seed(1)    # reproducible\n",
    "from cpa import PAnet"
   ]
  },
  {
   "cell_type": "code",
   "execution_count": 18,
   "id": "78e9710a-4d6e-4737-8ec0-3342799bec90",
   "metadata": {},
   "outputs": [],
   "source": [
    "def train(EPOCH, LR, HIDDEN_SIZE, HIDDEN_LAYERS):\n",
    "    '''\n",
    "    EPOCH          训练次数\n",
    "    LR             学习率\n",
    "    HIDDEN_SIZE    隐藏层网络宽度\n",
    "    HIDDEN_LAYERS  隐藏层深度\n",
    "    \n",
    "    '''\n",
    "    time = np.arange(EPOCH)   # 产生自变量\n",
    "    loss_list = []\n",
    "    cn_panet = PAnet(n_feature=1, n_hidden=HIDDEN_SIZE, n_output=1, hidden_num=HIDDEN_LAYERS-1)     # define the network\n",
    "    print(cn_panet)  # net architecture\n",
    "    optimizer = torch.optim.SGD(cn_panet.parameters(), lr=LR)  # 调小学习率\n",
    "    loss_func = torch.nn.MSELoss()  # this is for regression mean squared loss\n",
    "    for t in range(EPOCH):\n",
    "        prediction = cn_panet(year)          # input x and predict based on x\n",
    "        loss = loss_func(prediction, cp)     # must be (1. nn output, 2. target)\n",
    "        loss_list.append(loss)\n",
    "\n",
    "        optimizer.zero_grad()                # clear gradients for next train\n",
    "        loss.backward()                      # backpropagation, compute gradients\n",
    "        optimizer.step()                     # apply gradients    \n",
    "    return time, loss_list"
   ]
  },
  {
   "cell_type": "code",
   "execution_count": 19,
   "id": "1ed76ebd-2241-4e94-943f-25d0a131a9d5",
   "metadata": {},
   "outputs": [
    {
     "name": "stdout",
     "output_type": "stream",
     "text": [
      "PAnet(\n",
      "  (hidden1): Linear(in_features=1, out_features=30, bias=True)\n",
      "  (hidden2): ModuleList(\n",
      "    (0): Linear(in_features=30, out_features=30, bias=True)\n",
      "    (1): Linear(in_features=30, out_features=30, bias=True)\n",
      "    (2): Linear(in_features=30, out_features=30, bias=True)\n",
      "    (3): Linear(in_features=30, out_features=30, bias=True)\n",
      "  )\n",
      "  (predict): Linear(in_features=30, out_features=1, bias=True)\n",
      ")\n",
      "PAnet(\n",
      "  (hidden1): Linear(in_features=1, out_features=30, bias=True)\n",
      "  (hidden2): ModuleList(\n",
      "    (0): Linear(in_features=30, out_features=30, bias=True)\n",
      "    (1): Linear(in_features=30, out_features=30, bias=True)\n",
      "    (2): Linear(in_features=30, out_features=30, bias=True)\n",
      "    (3): Linear(in_features=30, out_features=30, bias=True)\n",
      "  )\n",
      "  (predict): Linear(in_features=30, out_features=1, bias=True)\n",
      ")\n",
      "PAnet(\n",
      "  (hidden1): Linear(in_features=1, out_features=30, bias=True)\n",
      "  (hidden2): ModuleList(\n",
      "    (0): Linear(in_features=30, out_features=30, bias=True)\n",
      "    (1): Linear(in_features=30, out_features=30, bias=True)\n",
      "    (2): Linear(in_features=30, out_features=30, bias=True)\n",
      "    (3): Linear(in_features=30, out_features=30, bias=True)\n",
      "  )\n",
      "  (predict): Linear(in_features=30, out_features=1, bias=True)\n",
      ")\n",
      "PAnet(\n",
      "  (hidden1): Linear(in_features=1, out_features=30, bias=True)\n",
      "  (hidden2): ModuleList(\n",
      "    (0): Linear(in_features=30, out_features=30, bias=True)\n",
      "    (1): Linear(in_features=30, out_features=30, bias=True)\n",
      "    (2): Linear(in_features=30, out_features=30, bias=True)\n",
      "    (3): Linear(in_features=30, out_features=30, bias=True)\n",
      "  )\n",
      "  (predict): Linear(in_features=30, out_features=1, bias=True)\n",
      ")\n",
      "PAnet(\n",
      "  (hidden1): Linear(in_features=1, out_features=30, bias=True)\n",
      "  (hidden2): ModuleList(\n",
      "    (0): Linear(in_features=30, out_features=30, bias=True)\n",
      "    (1): Linear(in_features=30, out_features=30, bias=True)\n",
      "    (2): Linear(in_features=30, out_features=30, bias=True)\n",
      "    (3): Linear(in_features=30, out_features=30, bias=True)\n",
      "  )\n",
      "  (predict): Linear(in_features=30, out_features=1, bias=True)\n",
      ")\n",
      "PAnet(\n",
      "  (hidden1): Linear(in_features=1, out_features=30, bias=True)\n",
      "  (hidden2): ModuleList(\n",
      "    (0): Linear(in_features=30, out_features=30, bias=True)\n",
      "    (1): Linear(in_features=30, out_features=30, bias=True)\n",
      "    (2): Linear(in_features=30, out_features=30, bias=True)\n",
      "    (3): Linear(in_features=30, out_features=30, bias=True)\n",
      "  )\n",
      "  (predict): Linear(in_features=30, out_features=1, bias=True)\n",
      ")\n",
      "PAnet(\n",
      "  (hidden1): Linear(in_features=1, out_features=30, bias=True)\n",
      "  (hidden2): ModuleList(\n",
      "    (0): Linear(in_features=30, out_features=30, bias=True)\n",
      "    (1): Linear(in_features=30, out_features=30, bias=True)\n",
      "    (2): Linear(in_features=30, out_features=30, bias=True)\n",
      "    (3): Linear(in_features=30, out_features=30, bias=True)\n",
      "  )\n",
      "  (predict): Linear(in_features=30, out_features=1, bias=True)\n",
      ")\n",
      "PAnet(\n",
      "  (hidden1): Linear(in_features=1, out_features=30, bias=True)\n",
      "  (hidden2): ModuleList(\n",
      "    (0): Linear(in_features=30, out_features=30, bias=True)\n",
      "    (1): Linear(in_features=30, out_features=30, bias=True)\n",
      "    (2): Linear(in_features=30, out_features=30, bias=True)\n",
      "    (3): Linear(in_features=30, out_features=30, bias=True)\n",
      "  )\n",
      "  (predict): Linear(in_features=30, out_features=1, bias=True)\n",
      ")\n"
     ]
    }
   ],
   "source": [
    "# Hyper Parameters\n",
    "EPOCH = 5000 # 训练次数\n",
    "LR = 0.002 # 学习率\n",
    "HIDDEN_SIZE = 30 # 隐藏层网络宽度\n",
    "HIDDEN_LAYERS = 5 # 隐藏层深度\n",
    "time, loss_list_02 = train(EPOCH, 0.2, HIDDEN_SIZE, HIDDEN_LAYERS)\n",
    "time, loss_list_0005 = train(EPOCH, 0.005, HIDDEN_SIZE, HIDDEN_LAYERS)\n",
    "time, loss_list_0002 = train(EPOCH, 0.002, HIDDEN_SIZE, HIDDEN_LAYERS)\n",
    "time, loss_list_0003 = train(EPOCH, 0.003, HIDDEN_SIZE, HIDDEN_LAYERS)\n",
    "time, loss_list_0004 = train(EPOCH, 0.004, HIDDEN_SIZE, HIDDEN_LAYERS)\n",
    "time, loss_list_0001 = train(EPOCH, 0.001, HIDDEN_SIZE, HIDDEN_LAYERS)\n",
    "time, loss_list_00002 = train(EPOCH, 0.0002, HIDDEN_SIZE, HIDDEN_LAYERS)\n",
    "time, loss_list_000002 = train(EPOCH, 0.00002, HIDDEN_SIZE, HIDDEN_LAYERS)"
   ]
  },
  {
   "cell_type": "code",
   "execution_count": 20,
   "id": "88e86bda-8ecb-4f95-bab4-12414799c6dd",
   "metadata": {},
   "outputs": [
    {
     "data": {
      "text/plain": [
       "<matplotlib.legend.Legend at 0x7fd6f5e18cc0>"
      ]
     },
     "execution_count": 20,
     "metadata": {},
     "output_type": "execute_result"
    },
    {
     "data": {
      "image/png": "[encoded data removed]",
      "text/plain": [
       "<Figure size 432x288 with 1 Axes>"
      ]
     },
     "metadata": {},
     "output_type": "display_data"
    }
   ],
   "source": [
    "plt.plot(time, loss_list_0001, 'g-', label='lr=0.001') \n",
    "plt.plot(time, loss_list_0002, 'b-', label='lr=0.002') \n",
    "plt.plot(time, loss_list_0003, 'k-', label='lr=0.003') \n",
    "plt.plot(time, loss_list_0004, 'y-', label='lr=0.004') \n",
    "plt.plot(time, loss_list_0005, 'r-', label='lr=0.005') \n",
    "\n",
    "plt.legend(loc='lower right')  # 说明图例  # loc='lower right' 设置图例放置位置"
   ]
  },
  {
   "cell_type": "code",
   "execution_count": 21,
   "id": "31808135-46bd-4d0d-8d4e-c60f8c1a8e69",
   "metadata": {},
   "outputs": [
    {
     "data": {
      "text/plain": [
       "<matplotlib.legend.Legend at 0x7fd6f5a02710>"
      ]
     },
     "execution_count": 21,
     "metadata": {},
     "output_type": "execute_result"
    },
    {
     "data": {
      "image/png": "[encoded data removed]",
      "text/plain": [
       "<Figure size 432x288 with 1 Axes>"
      ]
     },
     "metadata": {},
     "output_type": "display_data"
    }
   ],
   "source": [
    "plt.plot(time[100:], loss_list_0001[100:], 'g-', label='lr=0.001') \n",
    "plt.plot(time[100:], loss_list_0002[100:], 'b-', label='lr=0.002') \n",
    "plt.plot(time[100:], loss_list_0003[100:], 'k-', label='lr=0.003') \n",
    "plt.plot(time[100:], loss_list_0004[100:], 'y-', label='lr=0.004') \n",
    "plt.plot(time[100:], loss_list_0005[100:], 'r-', label='lr=0.005') \n",
    "plt.legend(loc='lower right')  # 说明图例  # loc='lower right' 设置图例放置位置"
   ]
  },
  {
   "cell_type": "code",
   "execution_count": 22,
   "id": "df0e49bd-a8a3-4ccf-b1ce-5394d2627401",
   "metadata": {},
   "outputs": [],
   "source": [
    "# 导入相应包\n",
    "import torch\n",
    "import numpy as np\n",
    "import torch.nn.functional as F\n",
    "import matplotlib.pyplot as plt\n",
    "from cpa import PAnet\n",
    "%matplotlib inline"
   ]
  },
  {
   "cell_type": "code",
   "execution_count": 24,
   "id": "b1b6e823-896a-4bc1-ade5-f56c48b4d13a",
   "metadata": {},
   "outputs": [
    {
     "name": "stderr",
     "output_type": "stream",
     "text": [
      "/home/ma-user/anaconda3/envs/Pytorch-1.0.0/lib/python3.6/site-packages/ipykernel/__main__.py:2: UserWarning: torch.range is deprecated in favor of torch.arange and will be removed in 0.5. Note that arange generates values in [start; end), not [start; end].\n",
      "  from ipykernel import kernelapp as app\n"
     ]
    },
    {
     "data": {
      "image/png": "[encoded data removed]",
      "text/plain": [
       "<Figure size 432x288 with 1 Axes>"
      ]
     },
     "metadata": {},
     "output_type": "display_data"
    }
   ],
   "source": [
    "# 获取数据\n",
    "year = torch.unsqueeze(torch.range(start=1950, end=2020, step=1, out=None), dim=1) \n",
    "year = year - 1949  # year-1958，假设1959年为第1年\n",
    "cp = torch.unsqueeze(torch.tensor([3.31 ,3.33 ,3.35 ,3.37 ,3.38 ,3.40 ,3.42 ,3.44 ,3.46 ,3.48 ,3.49 ,3.51 ,\n",
    "                                   3.53 ,3.55 ,3.57 ,3.58 ,3.60 ,3.61 ,3.63 ,3.64 ,3.66 ,3.67 ,3.69 ,3.70 ,\n",
    "                                   3.71 ,3.72 ,3.73 ,3.75 ,3.76 ,3.77 ,3.78 ,3.79 ,3.80 ,3.81 ,3.82 ,3.83 ,\n",
    "                                   3.85 ,3.86 ,3.87 ,3.88 ,3.89 ,3.90 ,3.91 ,3.93 ,3.94 ,3.95 ,3.96 ,3.97 ,\n",
    "                                   3.98 ,3.99 ,4.00 ,4.02 ,4.03 ,4.04 ,4.05 ,4.06 ,4.07 ,4.07 ,4.08 ,4.09 ,4.10 ,\n",
    "                                   4.11 ,4.12 ,4.12 ,4.13 ,4.14 ,4.15 ,4.15 ,4.16 ,4.17 ,4.17 ]), dim=1)   # 单位：千\n",
    "plt.scatter(year.data.numpy(), cp.data.numpy())\n",
    "plt.show()"
   ]
  },
  {
   "cell_type": "code",
   "execution_count": 25,
   "id": "54e1075a-935f-4164-85f5-c8c952b292e6",
   "metadata": {},
   "outputs": [],
   "source": [
    "# 训练并且保存网络函数\n",
    "def trainandsave(EPOCH, LR, HIDDEN_SIZE, HIDDEN_LAYERS):\n",
    "    '''\n",
    "    EPOCH          训练次数\n",
    "    LR             学习率\n",
    "    HIDDEN_SIZE    隐藏层网络宽度\n",
    "    HIDDEN_LAYERS  隐藏层深度\n",
    "    \n",
    "    '''\n",
    "    time = np.arange(EPOCH)   # 产生自变量\n",
    "    loss_list = []\n",
    "    cn_panet = PAnet(n_feature=1, n_hidden=HIDDEN_SIZE, n_output=1, hidden_num=HIDDEN_LAYERS-1)     # define the network\n",
    "    print(cn_panet)  # net architecture\n",
    "    optimizer = torch.optim.SGD(cn_panet.parameters(), lr=LR)  # 调小学习率\n",
    "    loss_func = torch.nn.MSELoss()  # this is for regression mean squared loss\n",
    "    for t in range(EPOCH):\n",
    "        prediction = cn_panet(year)          # input x and predict based on x\n",
    "        loss = loss_func(prediction, cp)     # must be (1. nn output, 2. target)\n",
    "        loss_list.append(loss)\n",
    "\n",
    "        optimizer.zero_grad()                # clear gradients for next train\n",
    "        loss.backward()                      # backpropagation, compute gradients\n",
    "        optimizer.step()                     # apply gradients    \n",
    "    torch.save(cn_panet, 'cn_panet.pkl')  # save entire net\n",
    "    print(\"成功保存网络\")\n",
    "    return time, loss_list\n"
   ]
  },
  {
   "cell_type": "code",
   "execution_count": 26,
   "id": "cc813e28-2508-4134-a3f7-8ae521141568",
   "metadata": {},
   "outputs": [],
   "source": [
    "# 读取网络模型函数\n",
    "def restore_net(netname):\n",
    "    # restore entire net1 to net2\n",
    "    net = torch.load(netname)\n",
    "    return net\n"
   ]
  },
  {
   "cell_type": "code",
   "execution_count": 27,
   "id": "aef59521-e1b0-419f-8efa-9b038270beda",
   "metadata": {},
   "outputs": [
    {
     "name": "stdout",
     "output_type": "stream",
     "text": [
      "PAnet(\n",
      "  (hidden1): Linear(in_features=1, out_features=32, bias=True)\n",
      "  (hidden2): ModuleList(\n",
      "    (0): Linear(in_features=32, out_features=32, bias=True)\n",
      "    (1): Linear(in_features=32, out_features=32, bias=True)\n",
      "    (2): Linear(in_features=32, out_features=32, bias=True)\n",
      "    (3): Linear(in_features=32, out_features=32, bias=True)\n",
      "    (4): Linear(in_features=32, out_features=32, bias=True)\n",
      "    (5): Linear(in_features=32, out_features=32, bias=True)\n",
      "    (6): Linear(in_features=32, out_features=32, bias=True)\n",
      "  )\n",
      "  (predict): Linear(in_features=32, out_features=1, bias=True)\n",
      ")\n",
      "成功保存网络\n"
     ]
    },
    {
     "data": {
      "text/plain": [
       "[<matplotlib.lines.Line2D at 0x7fd6f59c3898>]"
      ]
     },
     "execution_count": 27,
     "metadata": {},
     "output_type": "execute_result"
    },
    {
     "data": {
      "image/png": "[encoded data removed]",
      "text/plain": [
       "<Figure size 432x288 with 1 Axes>"
      ]
     },
     "metadata": {},
     "output_type": "display_data"
    }
   ],
   "source": [
    "# 根据最优参数进行配置\n",
    "EPOCH = 5000 # 训练次数\n",
    "LR = 0.003 # 学习率\n",
    "HIDDEN_SIZE = 32 # 隐藏层网络宽度\n",
    "HIDDEN_LAYERS = 8 # 隐藏层深度\n",
    "time, loss_list_02 = trainandsave(EPOCH, LR, HIDDEN_SIZE, HIDDEN_LAYERS)\n",
    "plt.plot(time, loss_list_02, 'g-', label='损失函数曲线') \n"
   ]
  },
  {
   "cell_type": "code",
   "execution_count": 29,
   "id": "552bfb4d-e37a-4701-b501-36d7198244ac",
   "metadata": {},
   "outputs": [
    {
     "name": "stdout",
     "output_type": "stream",
     "text": [
      "torch.Size([1, 1])\n",
      "预测的230年人口为： 4.306649684906006 亿\n"
     ]
    }
   ],
   "source": [
    "reload_net = restore_net('cn_panet.pkl')\n",
    "year_2030 = 2030 - 1950\n",
    "year_2030 = torch.FloatTensor([[year_2030]])\n",
    "print(year_2030.shape)\n",
    "cp_2030 = reload_net(year_2030)\n",
    "print(\"预测的230年人口为：\",cp_2030.item(),\"亿\")\n"
   ]
  }
 ],
 "metadata": {
  "kernelspec": {
   "display_name": "Conda-python3",
   "language": "python",
   "name": "conda-python3"
  },
  "language_info": {
   "codemirror_mode": {
    "name": "ipython",
    "version": 3
   },
   "file_extension": ".py",
   "mimetype": "text/x-python",
   "name": "python",
   "nbconvert_exporter": "python",
   "pygments_lexer": "ipython3",
   "version": "3.6.4"
  }
 },
 "nbformat": 4,
 "nbformat_minor": 5
}
